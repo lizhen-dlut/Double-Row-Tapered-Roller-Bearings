{
 "cells": [
  {
   "cell_type": "code",
   "execution_count": 1,
   "metadata": {
    "collapsed": true
   },
   "outputs": [],
   "source": [
    "from sympy import *\n",
    "init_printing()\n",
    "from sympy.physics.mechanics import *"
   ]
  },
  {
   "cell_type": "code",
   "execution_count": 2,
   "metadata": {
    "collapsed": true
   },
   "outputs": [],
   "source": [
    "# 惯性坐标系， 外圈坐标系\n",
    "N = ReferenceFrame('N')"
   ]
  },
  {
   "cell_type": "code",
   "execution_count": 3,
   "metadata": {},
   "outputs": [
    {
     "data": {
      "image/png": "[encoded data removed]",
      "text/latex": [
       "$$\\left ( \\delta_{x}, \\quad \\delta_{y}, \\quad \\delta_{z}, \\quad \\gamma_{x}, \\quad \\gamma_{y}\\right )$$"
      ],
      "text/plain": [
       "(δₓ, δ_y, δ_z, γₓ, γ_y)"
      ]
     },
     "execution_count": 3,
     "metadata": {},
     "output_type": "execute_result"
    }
   ],
   "source": [
    "# 内圈位移\n",
    "delta_x, delta_y, delta_z, gamma_x, gamma_y = symbols('delta_x, delta_y, delta_z, gamma_x, gamma_y ')\n",
    "delta_x, delta_y, delta_z, gamma_x, gamma_y "
   ]
  },
  {
   "cell_type": "code",
   "execution_count": 4,
   "metadata": {
    "collapsed": true
   },
   "outputs": [],
   "source": [
    "# left内圈角位移后的坐标系\n",
    "I_left = N.orientnew('I_l', 'Body', [gamma_x, gamma_y, 0], '123')\n",
    "\n",
    "# right内圈角位移后的坐标系\n",
    "I_right = I_left.orientnew('I_r', 'Axis',  [pi, N.x])\n",
    "\n",
    "#I = N.orientnew('I', 'Body', [gamma_x, gamma_y, 0], '123')"
   ]
  },
  {
   "cell_type": "code",
   "execution_count": 5,
   "metadata": {},
   "outputs": [
    {
     "data": {
      "image/png": "[encoded data removed]",
      "text/latex": [
       "$$\\left[\\begin{matrix}1 & 0 & - \\gamma_{y}\\\\0 & 1 & \\gamma_{x}\\\\\\gamma_{y} & - \\gamma_{x} & 1\\end{matrix}\\right]$$"
      ],
      "text/plain": [
       "⎡ 1    0   -γ_y⎤\n",
       "⎢              ⎥\n",
       "⎢ 0    1    γₓ ⎥\n",
       "⎢              ⎥\n",
       "⎣γ_y  -γₓ   1  ⎦"
      ]
     },
     "execution_count": 5,
     "metadata": {},
     "output_type": "execute_result"
    }
   ],
   "source": [
    "# 角位移小变形条件下，gamma_x*gamma_y 为零\n",
    "I_left.dcm(N).subs({cos(gamma_y):1,cos(gamma_x):1,sin(gamma_x):gamma_x,sin(gamma_y):gamma_y}).subs({gamma_x*gamma_y:0})"
   ]
  },
  {
   "cell_type": "code",
   "execution_count": 6,
   "metadata": {},
   "outputs": [
    {
     "data": {
      "image/png": "[encoded data removed]",
      "text/latex": [
       "$$\\left[\\begin{matrix}1 & 0 & \\gamma_{y}\\\\0 & -1 & - \\gamma_{x}\\\\\\gamma_{y} & \\gamma_{x} & -1\\end{matrix}\\right]$$"
      ],
      "text/plain": [
       "⎡ 1   0   γ_y⎤\n",
       "⎢            ⎥\n",
       "⎢ 0   -1  -γₓ⎥\n",
       "⎢            ⎥\n",
       "⎣γ_y  γₓ  -1 ⎦"
      ]
     },
     "execution_count": 6,
     "metadata": {},
     "output_type": "execute_result"
    }
   ],
   "source": [
    "I_right.dcm(N).subs({cos(gamma_y):1,cos(gamma_x):1,sin(gamma_x):gamma_x,sin(gamma_y):gamma_y}).subs({gamma_x*gamma_y:0,gamma_y*gamma_y:0})"
   ]
  },
  {
   "cell_type": "code",
   "execution_count": 7,
   "metadata": {},
   "outputs": [
    {
     "data": {
      "image/png": "[encoded data removed]",
      "text/latex": [
       "$$-  2 \\delta_{0}\\mathbf{\\hat{n}_z}$$"
      ],
      "text/plain": [
       "- 2⋅δ₀ n_z"
      ]
     },
     "execution_count": 7,
     "metadata": {},
     "output_type": "execute_result"
    }
   ],
   "source": [
    "# left内圈受力后原点的位移\n",
    "delta_0 = symbols('delta_0')  # preload\n",
    "Inner_1 = delta_x * N.x + delta_y * N.y + (delta_z + delta_0) * N.z   \n",
    "# right\n",
    "Inner_2 = delta_x * N.x + delta_y * N.y + (delta_z - delta_0) * N.z   \n",
    "Inner_2\n",
    "Inner_2 - Inner_1"
   ]
  },
  {
   "cell_type": "code",
   "execution_count": 8,
   "metadata": {},
   "outputs": [],
   "source": [
    "Dw,lw,Rs,rm,alpha,beta,gamma,theta,epsilon,rho_k,Z,rz,psi = symbols('D_w,l_w,R_s,r_m,alpha,beta,gamma,theta,epsilon,rho_k,Z,r_z,psi')\n",
    "e, e_w, e_r = symbols('e, e_w, e_r')"
   ]
  },
  {
   "cell_type": "code",
   "execution_count": 9,
   "metadata": {},
   "outputs": [],
   "source": [
    "# 外圈滚道 在惯性坐标系下的矢量，1左侧，2 右侧\n",
    "r_e1 = (rm - rz * sin(gamma) + rho_k * cos(gamma)) * cos(psi) * N.x + \\\n",
    "       (rm - rz * sin(gamma) + rho_k * cos(gamma)) * sin(psi) * N.y + \\\n",
    "     (-e_w + rz * cos(gamma) + rho_k * sin(gamma)) *            N.z\n",
    "r_e2 = (rm - rz * sin(gamma) + rho_k * cos(gamma)) * cos(psi) * N.x + \\\n",
    "       (rm - rz * sin(gamma) + rho_k * cos(gamma)) * sin(psi) * N.y + \\\n",
    "     (e_w - (rz * cos(gamma) + rho_k * sin(gamma)))*            N.z       "
   ]
  },
  {
   "cell_type": "code",
   "execution_count": 10,
   "metadata": {},
   "outputs": [
    {
     "data": {
      "image/png": "[encoded data removed]",
      "text/latex": [
       "$$(2 e_{w} - 2 r_{z} \\operatorname{cos}\\left(\\gamma\\right) - 2 \\rho_{k} \\operatorname{sin}\\left(\\gamma\\right))\\mathbf{\\hat{n}_z}$$"
      ],
      "text/plain": [
       "(2⋅e_w - 2⋅r_z⋅cos(γ) - 2⋅ρₖ⋅sin(γ)) n_z"
      ]
     },
     "execution_count": 10,
     "metadata": {},
     "output_type": "execute_result"
    }
   ],
   "source": [
    "r_e2-r_e1"
   ]
  },
  {
   "cell_type": "code",
   "execution_count": 11,
   "metadata": {},
   "outputs": [],
   "source": [
    "# left 内圈滚道 在惯性坐标系下的矢量\n",
    "r_i10 = (rm - rz * sin(gamma) - rho_k * cos(gamma)) * cos(psi) * N.x + \\\n",
    "        (rm - rz * sin(gamma) - rho_k * cos(gamma)) * sin(psi) * N.y + \\\n",
    "      (-e_w + rz * cos(gamma) - rho_k * sin(gamma)) *            N.z\n",
    "\n",
    "# left 内圈滚道 变形后在惯性坐标系下的矢量\n",
    "r_i11 = (rm - rz * sin(gamma) - rho_k * cos(gamma)) * cos(psi) * I_left.x + \\\n",
    "        (rm - rz * sin(gamma) - rho_k * cos(gamma)) * sin(psi) * I_left.y + \\\n",
    "      (-e_w + rz * cos(gamma) - rho_k * sin(gamma))            * I_left.z + Inner_1\n",
    "\n",
    "# right 内圈滚道 在惯性坐标系下的矢量\n",
    "r_i20 = (rm - rz * sin(gamma) - rho_k * cos(gamma)) * cos(psi) * N.x + \\\n",
    "        (rm - rz * sin(gamma) - rho_k * cos(gamma)) * sin(psi) * N.y + \\\n",
    "       (e_w - rz * cos(gamma) + rho_k * sin(gamma)) *            N.z\n",
    "        \n",
    "#  right 内圈滚道 变形后在惯性坐标系下的矢量\n",
    "r_i21 = (rm - rz * sin(gamma) - rho_k * cos(gamma)) * cos(psi) * I_right.x + \\\n",
    "        (rm - rz * sin(gamma) - rho_k * cos(gamma)) * sin(psi) * I_right.y + \\\n",
    "       (e_w - rz * cos(gamma) + rho_k * sin(gamma))            * I_right.z + Inner_2        "
   ]
  },
  {
   "cell_type": "code",
   "execution_count": 12,
   "metadata": {},
   "outputs": [
    {
     "data": {
      "image/png": "[encoded data removed]",
      "text/latex": [
       "$$\\left(r_{m} - r_{z} \\operatorname{sin}\\left(\\gamma\\right) - \\rho_{k} \\operatorname{cos}\\left(\\gamma\\right)\\right) \\operatorname{cos}\\left(\\psi\\right)\\mathbf{\\hat{n}_x} + \\left(r_{m} - r_{z} \\operatorname{sin}\\left(\\gamma\\right) - \\rho_{k} \\operatorname{cos}\\left(\\gamma\\right)\\right) \\operatorname{sin}\\left(\\psi\\right)\\mathbf{\\hat{n}_y} + (- e_{w} + r_{z} \\operatorname{cos}\\left(\\gamma\\right) - \\rho_{k} \\operatorname{sin}\\left(\\gamma\\right))\\mathbf{\\hat{n}_z}$$"
      ],
      "text/plain": [
       "(rₘ - r_z⋅sin(γ) - ρₖ⋅cos(γ))⋅cos(ψ) n_x + (rₘ - r_z⋅sin(γ) - ρₖ⋅cos(γ))⋅sin(ψ) n_y + (-e_w + r_z⋅cos(γ) - ρₖ⋅sin(γ)) n_z"
      ]
     },
     "execution_count": 12,
     "metadata": {},
     "output_type": "execute_result"
    }
   ],
   "source": [
    "(r_i10).express(N)"
   ]
  },
  {
   "cell_type": "code",
   "execution_count": 13,
   "metadata": {},
   "outputs": [
    {
     "data": {
      "image/png": "[encoded data removed]",
      "text/latex": [
       "$$\\left(r_{m} - r_{z} \\operatorname{sin}\\left(\\gamma\\right) - \\rho_{k} \\operatorname{cos}\\left(\\gamma\\right)\\right) \\operatorname{cos}\\left(\\psi\\right)\\mathbf{\\hat{n}_x} + \\left(r_{m} - r_{z} \\operatorname{sin}\\left(\\gamma\\right) - \\rho_{k} \\operatorname{cos}\\left(\\gamma\\right)\\right) \\operatorname{sin}\\left(\\psi\\right)\\mathbf{\\hat{n}_y} + (e_{w} - r_{z} \\operatorname{cos}\\left(\\gamma\\right) + \\rho_{k} \\operatorname{sin}\\left(\\gamma\\right))\\mathbf{\\hat{n}_z}$$"
      ],
      "text/plain": [
       "(rₘ - r_z⋅sin(γ) - ρₖ⋅cos(γ))⋅cos(ψ) n_x + (rₘ - r_z⋅sin(γ) - ρₖ⋅cos(γ))⋅sin(ψ) n_y + (e_w - r_z⋅cos(γ) + ρₖ⋅sin(γ)) n_z"
      ]
     },
     "execution_count": 13,
     "metadata": {},
     "output_type": "execute_result"
    }
   ],
   "source": [
    "(r_i20).express(N)"
   ]
  },
  {
   "cell_type": "markdown",
   "metadata": {},
   "source": [
    "### 内滚道"
   ]
  },
  {
   "cell_type": "code",
   "execution_count": 18,
   "metadata": {},
   "outputs": [
    {
     "data": {
      "image/png": "[encoded data removed]",
      "text/latex": [
       "$$(\\delta_{x} - \\gamma_{y} \\left(e_{w} - r_{z} \\operatorname{cos}\\left(\\gamma\\right) + \\rho_{k} \\operatorname{sin}\\left(\\gamma\\right)\\right) - \\left(- r_{m} + r_{z} \\operatorname{sin}\\left(\\gamma\\right) + \\rho_{k} \\operatorname{cos}\\left(\\gamma\\right)\\right) \\operatorname{cos}\\left(\\psi\\right))\\mathbf{\\hat{n}_x} + (\\delta_{y} + \\gamma_{x} \\left(e_{w} - r_{z} \\operatorname{cos}\\left(\\gamma\\right) + \\rho_{k} \\operatorname{sin}\\left(\\gamma\\right)\\right) - \\left(- r_{m} + r_{z} \\operatorname{sin}\\left(\\gamma\\right) + \\rho_{k} \\operatorname{cos}\\left(\\gamma\\right)\\right) \\operatorname{sin}\\left(\\psi\\right))\\mathbf{\\hat{n}_y} + (\\delta_{0} + \\delta_{z} - e_{w} - \\gamma_{x} \\left(- r_{m} + r_{z} \\operatorname{sin}\\left(\\gamma\\right) + \\rho_{k} \\operatorname{cos}\\left(\\gamma\\right)\\right) \\operatorname{sin}\\left(\\psi\\right) + \\gamma_{y} \\left(- r_{m} + r_{z} \\operatorname{sin}\\left(\\gamma\\right) + \\rho_{k} \\operatorname{cos}\\left(\\gamma\\right)\\right) \\operatorname{cos}\\left(\\psi\\right) + r_{z} \\operatorname{cos}\\left(\\gamma\\right) - \\rho_{k} \\operatorname{sin}\\left(\\gamma\\right))\\mathbf{\\hat{n}_z}$$"
      ],
      "text/plain": [
       "(δₓ - γ_y⋅(e_w - r_z⋅cos(γ) + ρₖ⋅sin(γ)) - (-rₘ + r_z⋅sin(γ) + ρₖ⋅cos(γ))⋅cos(ψ)) n_x + (δ_y + γₓ⋅(e_w - r_z⋅cos(γ) + ρₖ⋅sin(γ)) - (-rₘ + r_z⋅sin(γ) + ρₖ⋅cos(γ))⋅sin(ψ)) n_y + (δ₀ + δ_z - e_w - γₓ⋅(-rₘ + r_z⋅sin(γ) + ρₖ⋅cos(γ))⋅sin(ψ) + γ_y⋅(-rₘ + r_z⋅sin(γ) + ρₖ⋅cos(γ))⋅cos(ψ) + r_z⋅cos(γ) - ρₖ⋅sin(γ)) n_z"
      ]
     },
     "execution_count": 18,
     "metadata": {},
     "output_type": "execute_result"
    }
   ],
   "source": [
    "r_i11.express(N).subs({cos(gamma_y):1,cos(gamma_x):1,sin(gamma_x):gamma_x,sin(gamma_y):gamma_y}).subs({gamma_x*gamma_y:0}).simplify()  "
   ]
  },
  {
   "cell_type": "code",
   "execution_count": 19,
   "metadata": {},
   "outputs": [
    {
     "data": {
      "image/png": "[encoded data removed]",
      "text/latex": [
       "$$(\\delta_{x} + \\gamma_{y} \\left(e_{w} - r_{z} \\operatorname{cos}\\left(\\gamma\\right) + \\rho_{k} \\operatorname{sin}\\left(\\gamma\\right)\\right) - \\left(- r_{m} + r_{z} \\operatorname{sin}\\left(\\gamma\\right) + \\rho_{k} \\operatorname{cos}\\left(\\gamma\\right)\\right) \\operatorname{cos}\\left(\\psi\\right))\\mathbf{\\hat{n}_x} + (\\delta_{y} + \\gamma_{x} \\left(e_{w} - r_{z} \\operatorname{cos}\\left(\\gamma\\right) + \\rho_{k} \\operatorname{sin}\\left(\\gamma\\right)\\right) + \\left(- r_{m} + r_{z} \\operatorname{sin}\\left(\\gamma\\right) + \\rho_{k} \\operatorname{cos}\\left(\\gamma\\right)\\right) \\operatorname{sin}\\left(\\psi\\right))\\mathbf{\\hat{n}_y} + (- \\delta_{0} + \\delta_{z} - e_{w} + \\gamma_{x} \\left(- r_{m} + r_{z} \\operatorname{sin}\\left(\\gamma\\right) + \\rho_{k} \\operatorname{cos}\\left(\\gamma\\right)\\right) \\operatorname{sin}\\left(\\psi\\right) - \\gamma_{y} \\left(- r_{m} + r_{z} \\operatorname{sin}\\left(\\gamma\\right) + \\rho_{k} \\operatorname{cos}\\left(\\gamma\\right)\\right) \\operatorname{cos}\\left(\\psi\\right) + r_{z} \\operatorname{cos}\\left(\\gamma\\right) - \\rho_{k} \\operatorname{sin}\\left(\\gamma\\right))\\mathbf{\\hat{n}_z}$$"
      ],
      "text/plain": [
       "(δₓ + γ_y⋅(e_w - r_z⋅cos(γ) + ρₖ⋅sin(γ)) - (-rₘ + r_z⋅sin(γ) + ρₖ⋅cos(γ))⋅cos(ψ)) n_x + (δ_y + γₓ⋅(e_w - r_z⋅cos(γ) + ρₖ⋅sin(γ)) + (-rₘ + r_z⋅sin(γ) + ρₖ⋅cos(γ))⋅sin(ψ)) n_y + (-δ₀ + δ_z - e_w + γₓ⋅(-rₘ + r_z⋅sin(γ) + ρₖ⋅cos(γ))⋅sin(ψ) - γ_y⋅(-rₘ + r_z⋅sin(γ) + ρₖ⋅cos(γ))⋅cos(ψ) + r_z⋅cos(γ) - ρₖ⋅sin(γ)) n_z"
      ]
     },
     "execution_count": 19,
     "metadata": {},
     "output_type": "execute_result"
    }
   ],
   "source": [
    "r_i21.express(N).subs({cos(gamma_y):1,cos(gamma_x):1,sin(gamma_x):gamma_x,sin(gamma_y):gamma_y}).subs({gamma_x*gamma_y:0,gamma_y*gamma_y:0}).simplify() "
   ]
  },
  {
   "cell_type": "markdown",
   "metadata": {},
   "source": [
    "### 档边"
   ]
  },
  {
   "cell_type": "code",
   "execution_count": 20,
   "metadata": {},
   "outputs": [],
   "source": [
    "lambda_f = symbols('lambda_f')\n",
    "\n",
    "# left 档边接触点 惯性坐标系下的矢量\n",
    "r_f10 = (rm - Rs * cos(lambda_f) * sin(gamma) + Rs * sin(theta)) * cos(psi) * N.x + \\\n",
    "        (rm - Rs * cos(lambda_f) * sin(gamma) + Rs * sin(theta)) * sin(psi) * N.y + \\\n",
    "      (-e_w + Rs * cos(lambda_f) * cos(gamma) - Rs * cos(theta)) *            N.z\n",
    "\n",
    "# right 档边接触点 惯性坐标系下的矢量\n",
    "r_f20 = (rm - Rs * cos(lambda_f) * sin(gamma) + Rs * sin(theta)) * cos(psi) * N.x + \\\n",
    "        (rm - Rs * cos(lambda_f) * sin(gamma) + Rs * sin(theta)) * sin(psi) * N.y + \\\n",
    "       (e_w - Rs * cos(lambda_f) * cos(gamma) + Rs * cos(theta)) * N.z \n",
    "        \n",
    "# left 档边接触点 变形后在惯性坐标系下的矢量\n",
    "r_f11 = (rm - Rs * cos(lambda_f) * sin(gamma) + Rs * sin(theta)) * cos(psi) * I_left.x + \\\n",
    "        (rm - Rs * cos(lambda_f) * sin(gamma) + Rs * sin(theta)) * sin(psi) * I_left.y + \\\n",
    "        (-e_w  + Rs * cos(lambda_f) * cos(gamma) - Rs * cos(theta))         * I_left.z + Inner_1\n",
    "\n",
    "# right 档边接触点 变形后在惯性坐标系下的矢量\n",
    "r_f21 = (rm - Rs * cos(lambda_f) * sin(gamma) + Rs * sin(theta)) * cos(psi) * I_right.x + \\\n",
    "        (rm - Rs * cos(lambda_f) * sin(gamma) + Rs * sin(theta)) * sin(psi) * I_right.y + \\\n",
    "       (e_w - Rs * cos(lambda_f) * cos(gamma) + Rs * cos(theta))            * I_right.z + Inner_2"
   ]
  },
  {
   "cell_type": "markdown",
   "metadata": {},
   "source": [
    "### 滚子"
   ]
  },
  {
   "cell_type": "code",
   "execution_count": 21,
   "metadata": {
    "collapsed": true
   },
   "outputs": [],
   "source": [
    "# 滚子的原点\n",
    "Roller_1 = rm * cos(psi) * N.x + rm * sin(psi) * N.y - e_w * N.z\n",
    "Roller_2 = rm * cos(psi) * N.x + rm * sin(psi) * N.y + e_w * N.z"
   ]
  },
  {
   "cell_type": "code",
   "execution_count": 22,
   "metadata": {
    "collapsed": true
   },
   "outputs": [],
   "source": [
    "u_y1, u_z1, phi_x1, u_y2, u_z2, phi_x2 = symbols('u_y1, u_z1, phi_x1, u_y2, u_z2, phi_x2')\n",
    "# left 滚子的坐标系\n",
    "R_10 = N.orientnew('R10', 'Body', [psi, gamma, 0], '312')\n",
    "# 滚子角位移后的坐标系\n",
    "R1 = R_10.orientnew('R1', 'Axis', [phi_x1, R_10.x])"
   ]
  },
  {
   "cell_type": "code",
   "execution_count": 23,
   "metadata": {
    "scrolled": true
   },
   "outputs": [
    {
     "data": {
      "image/png": "[encoded data removed]",
      "text/latex": [
       "$$u_{y1}\\mathbf{\\hat{r10}_y} + u_{z1}\\mathbf{\\hat{r10}_z}$$"
      ],
      "text/plain": [
       "u_y1 r10_y + u_z1 r10_z"
      ]
     },
     "execution_count": 23,
     "metadata": {},
     "output_type": "execute_result"
    }
   ],
   "source": [
    "# 滚子原点的位移\n",
    "Roller_d1 = u_y1 * R_10.y + u_z1 * R_10.z\n",
    "Roller_d1"
   ]
  },
  {
   "cell_type": "code",
   "execution_count": 24,
   "metadata": {
    "collapsed": true
   },
   "outputs": [],
   "source": [
    "# 滚子变形后 与外滚道接触处的位置矢量\n",
    "rho_e1_d = Roller_1 + Roller_d1 + rho_k * R1.y + rz * R1.z\n",
    "# inner\n",
    "rho_i1_d = Roller_1 + Roller_d1 - rho_k * R1.y + rz * R1.z\n",
    "# flange\n",
    "rho_f1_d = Roller_1 + Roller_d1 - Rs * sin(gamma-theta) * R1.y + Rs * (cos(lambda_f) - cos(gamma-theta)) * R1.z"
   ]
  },
  {
   "cell_type": "code",
   "execution_count": 25,
   "metadata": {},
   "outputs": [
    {
     "data": {
      "image/png": "[encoded data removed]",
      "text/latex": [
       "$$r_{m} \\operatorname{cos}\\left(\\psi\\right)\\mathbf{\\hat{n}_x} + r_{m} \\operatorname{sin}\\left(\\psi\\right)\\mathbf{\\hat{n}_y} -  e_{w}\\mathbf{\\hat{n}_z} + u_{y1}\\mathbf{\\hat{r10}_y} + u_{z1}\\mathbf{\\hat{r10}_z} -  R_{s} \\operatorname{sin}\\left(\\gamma - \\theta\\right)\\mathbf{\\hat{r1}_y} + R_{s} \\left(\\operatorname{cos}\\left(\\lambda_{f}\\right) - \\operatorname{cos}\\left(\\gamma - \\theta\\right)\\right)\\mathbf{\\hat{r1}_z}$$"
      ],
      "text/plain": [
       "rₘ⋅cos(ψ) n_x + rₘ⋅sin(ψ) n_y - e_w n_z + u_y1 r10_y + u_z1 r10_z - Rₛ⋅sin(γ - θ) r1_y + Rₛ⋅(cos(λ_f) - cos(γ - θ)) r1_z"
      ]
     },
     "execution_count": 25,
     "metadata": {},
     "output_type": "execute_result"
    }
   ],
   "source": [
    "rho_f1_d"
   ]
  },
  {
   "cell_type": "code",
   "execution_count": 26,
   "metadata": {},
   "outputs": [],
   "source": [
    "# 滚子的坐标系\n",
    "R_20 = N.orientnew('R20', 'Body', [pi, -psi, gamma], '231')\n",
    "\n",
    "# 滚子角位移后的坐标系\n",
    "R2 = R_20.orientnew('R2', 'Axis', [phi_x2, R_20.x])\n",
    "\n",
    "# 滚子原点的位移\n",
    "Roller_d2 = u_y2 * R_20.y + u_z2 * R_20.z\n",
    "\n",
    "# 滚子变形后 与外滚道接触处的位置矢量\n",
    "rho_e2_d = Roller_2 + Roller_d2 + rho_k * R2.y + rz * R2.z\n",
    "\n",
    "# inner\n",
    "rho_i2_d = Roller_2 + Roller_d2 - rho_k * R2.y + rz * R2.z\n",
    "\n",
    "# flange\n",
    "rho_f2_d = Roller_2 + Roller_d2 - Rs * sin(gamma-theta) * R2.y + Rs * (cos(lambda_f) - cos(gamma-theta)) * R2.z\n"
   ]
  },
  {
   "cell_type": "code",
   "execution_count": 27,
   "metadata": {
    "collapsed": true
   },
   "outputs": [],
   "source": [
    "#left roller to outter\n",
    "rho_e1 = rho_k * R_10.y + rz * R_10.z\n",
    "# right roller to inner\n",
    "rho_e2 = rho_k * R_20.y + rz * R_20.z"
   ]
  },
  {
   "cell_type": "code",
   "execution_count": 28,
   "metadata": {},
   "outputs": [
    {
     "data": {
      "image/png": "[encoded data removed]",
      "text/latex": [
       "$$(r_{z} \\operatorname{sin}\\left(\\gamma\\right) - \\rho_{k} \\operatorname{cos}\\left(\\gamma\\right))\\mathbf{\\hat{n}_x} + (- r_{z} \\operatorname{sin}\\left(\\gamma\\right) + \\rho_{k} \\operatorname{cos}\\left(\\gamma\\right))\\mathbf{\\hat{n}_y}$$"
      ],
      "text/plain": [
       "(r_z⋅sin(γ) - ρₖ⋅cos(γ)) n_x + (-r_z⋅sin(γ) + ρₖ⋅cos(γ)) n_y"
      ]
     },
     "execution_count": 28,
     "metadata": {},
     "output_type": "execute_result"
    }
   ],
   "source": [
    "(Roller_1 + rho_e1  -  r_e1).express(N).simplify().subs({psi:0})"
   ]
  },
  {
   "cell_type": "code",
   "execution_count": 29,
   "metadata": {},
   "outputs": [
    {
     "data": {
      "image/png": "[encoded data removed]",
      "text/latex": [
       "$$\\sqrt{2} \\left(r_{z} \\operatorname{sin}\\left(\\gamma\\right) - \\rho_{k} \\operatorname{cos}\\left(\\gamma\\right)\\right) \\operatorname{sin}\\left(\\psi + \\frac{\\pi}{4}\\right)\\mathbf{\\hat{n}_x} + \\sqrt{2} \\left(- r_{z} \\operatorname{sin}\\left(\\gamma\\right) + \\rho_{k} \\operatorname{cos}\\left(\\gamma\\right)\\right) \\operatorname{cos}\\left(\\psi + \\frac{\\pi}{4}\\right)\\mathbf{\\hat{n}_y}$$"
      ],
      "text/plain": [
       "                               ⎛    π⎞\n",
       "√2⋅(r_z⋅sin(γ) - ρₖ⋅cos(γ))⋅sin⎜ψ + ─⎟\n",
       "                               ⎝    4⎠ n_x +                                 ⎛    π⎞\n",
       "√2⋅(-r_z⋅sin(γ) + ρₖ⋅cos(γ))⋅cos⎜ψ + ─⎟\n",
       "                                ⎝    4⎠ n_y"
      ]
     },
     "execution_count": 29,
     "metadata": {},
     "output_type": "execute_result"
    }
   ],
   "source": [
    "(Roller_2 + rho_e2 -  r_e2).express(N).simplify()"
   ]
  },
  {
   "cell_type": "code",
   "execution_count": 30,
   "metadata": {
    "collapsed": true
   },
   "outputs": [],
   "source": [
    "#left roller to inner\n",
    "rho_i1 = -rho_k * R_10.x + rz * R_10.z\n",
    "# right roller to inner\n",
    "rho_i2 = -rho_k * R_20.x + rz * R_20.z"
   ]
  },
  {
   "cell_type": "code",
   "execution_count": 32,
   "metadata": {
    "collapsed": true
   },
   "outputs": [],
   "source": [
    "# left roller to flange\n",
    "rho_f1 = -Rs * sin(gamma-theta) * R_10.x + Rs * (cos(lambda_f) - cos(gamma-theta)) * R_10.z\n",
    "# right roller to flange\n",
    "rho_f2 = -Rs * sin(gamma-theta) * R_20.x + Rs * (cos(lambda_f) - cos(gamma-theta)) * R_20.z"
   ]
  },
  {
   "cell_type": "code",
   "execution_count": 33,
   "metadata": {},
   "outputs": [
    {
     "data": {
      "image/png": "[encoded data removed]",
      "text/latex": [
       "$$R_{s} \\left(- \\operatorname{sin}\\left(\\gamma\\right) \\operatorname{sin}\\left(\\psi\\right) \\operatorname{cos}\\left(\\gamma - \\theta\\right) + \\sqrt{2} \\operatorname{sin}\\left(\\gamma\\right) \\operatorname{sin}\\left(\\psi + \\frac{\\pi}{4}\\right) \\operatorname{cos}\\left(\\lambda_{f}\\right) - \\operatorname{sin}\\left(\\theta\\right) \\operatorname{cos}\\left(\\psi\\right) - \\operatorname{sin}\\left(\\gamma - \\theta\\right) \\operatorname{cos}\\left(\\psi\\right)\\right)\\mathbf{\\hat{n}_x} + R_{s} \\left(- \\sqrt{2} \\operatorname{sin}\\left(\\gamma\\right) \\operatorname{cos}\\left(\\lambda_{f}\\right) \\operatorname{cos}\\left(\\psi + \\frac{\\pi}{4}\\right) + \\operatorname{sin}\\left(\\gamma\\right) \\operatorname{cos}\\left(\\psi\\right) \\operatorname{cos}\\left(\\gamma - \\theta\\right) - \\operatorname{sin}\\left(\\psi\\right) \\operatorname{sin}\\left(\\theta\\right) - \\operatorname{sin}\\left(\\psi\\right) \\operatorname{sin}\\left(\\gamma - \\theta\\right)\\right)\\mathbf{\\hat{n}_y} + R_{s} \\operatorname{sin}\\left(\\gamma\\right) \\operatorname{sin}\\left(\\gamma - \\theta\\right)\\mathbf{\\hat{n}_z}$$"
      ],
      "text/plain": [
       "   ⎛                                         ⎛    π⎞                          \n",
       "Rₛ⋅⎜-sin(γ)⋅sin(ψ)⋅cos(γ - θ) + √2⋅sin(γ)⋅sin⎜ψ + ─⎟⋅cos(λ_f) - sin(θ)⋅cos(ψ) \n",
       "   ⎝                                         ⎝    4⎠                          \n",
       "\n",
       "                   ⎞\n",
       "- sin(γ - θ)⋅cos(ψ)⎟\n",
       "                   ⎠ n_x +    ⎛                        ⎛    π⎞                                           \n",
       "Rₛ⋅⎜- √2⋅sin(γ)⋅cos(λ_f)⋅cos⎜ψ + ─⎟ + sin(γ)⋅cos(ψ)⋅cos(γ - θ) - sin(ψ)⋅sin(θ)\n",
       "   ⎝                        ⎝    4⎠                                           \n",
       "\n",
       "                    ⎞\n",
       " - sin(ψ)⋅sin(γ - θ)⎟\n",
       "                    ⎠ n_y + Rₛ⋅sin(γ)⋅sin(γ - θ) n_z"
      ]
     },
     "execution_count": 33,
     "metadata": {},
     "output_type": "execute_result"
    }
   ],
   "source": [
    "(Roller_1 + rho_f1 -  r_f10).express(N).simplify()"
   ]
  },
  {
   "cell_type": "code",
   "execution_count": 34,
   "metadata": {},
   "outputs": [
    {
     "data": {
      "image/png": "[encoded data removed]",
      "text/latex": [
       "$$R_{s} \\left(- \\operatorname{sin}\\left(\\gamma\\right) \\operatorname{sin}\\left(\\psi\\right) \\operatorname{cos}\\left(\\gamma - \\theta\\right) + \\sqrt{2} \\operatorname{sin}\\left(\\gamma\\right) \\operatorname{sin}\\left(\\psi + \\frac{\\pi}{4}\\right) \\operatorname{cos}\\left(\\lambda_{f}\\right) - \\operatorname{sin}\\left(\\theta\\right) \\operatorname{cos}\\left(\\psi\\right) + \\operatorname{sin}\\left(\\gamma - \\theta\\right) \\operatorname{cos}\\left(\\psi\\right)\\right)\\mathbf{\\hat{n}_x} + R_{s} \\left(- \\sqrt{2} \\operatorname{sin}\\left(\\gamma\\right) \\operatorname{cos}\\left(\\lambda_{f}\\right) \\operatorname{cos}\\left(\\psi + \\frac{\\pi}{4}\\right) + \\operatorname{sin}\\left(\\gamma\\right) \\operatorname{cos}\\left(\\psi\\right) \\operatorname{cos}\\left(\\gamma - \\theta\\right) - \\operatorname{sin}\\left(\\psi\\right) \\operatorname{sin}\\left(\\theta\\right) + \\operatorname{sin}\\left(\\psi\\right) \\operatorname{sin}\\left(\\gamma - \\theta\\right)\\right)\\mathbf{\\hat{n}_y} + \\frac{R_{s}}{2} \\left(- \\operatorname{cos}\\left(\\theta\\right) + \\operatorname{cos}\\left(2 \\gamma - \\theta\\right)\\right)\\mathbf{\\hat{n}_z}$$"
      ],
      "text/plain": [
       "   ⎛                                         ⎛    π⎞                          \n",
       "Rₛ⋅⎜-sin(γ)⋅sin(ψ)⋅cos(γ - θ) + √2⋅sin(γ)⋅sin⎜ψ + ─⎟⋅cos(λ_f) - sin(θ)⋅cos(ψ) \n",
       "   ⎝                                         ⎝    4⎠                          \n",
       "\n",
       "                   ⎞\n",
       "+ sin(γ - θ)⋅cos(ψ)⎟\n",
       "                   ⎠ n_x +    ⎛                        ⎛    π⎞                                           \n",
       "Rₛ⋅⎜- √2⋅sin(γ)⋅cos(λ_f)⋅cos⎜ψ + ─⎟ + sin(γ)⋅cos(ψ)⋅cos(γ - θ) - sin(ψ)⋅sin(θ)\n",
       "   ⎝                        ⎝    4⎠                                           \n",
       "\n",
       "                    ⎞\n",
       " + sin(ψ)⋅sin(γ - θ)⎟\n",
       "                    ⎠ n_y + Rₛ⋅(-cos(θ) + cos(2⋅γ - θ))\n",
       "───────────────────────────\n",
       "             2              n_z"
      ]
     },
     "execution_count": 34,
     "metadata": {},
     "output_type": "execute_result"
    }
   ],
   "source": [
    "(Roller_2 + rho_f2 -  r_f20).express(N).simplify()"
   ]
  },
  {
   "cell_type": "code",
   "execution_count": 35,
   "metadata": {},
   "outputs": [
    {
     "data": {
      "image/png": "[encoded data removed]",
      "text/latex": [
       "$$(r_{m} \\operatorname{cos}\\left(\\psi\\right) - \\left(- R_{s} \\operatorname{sin}\\left(\\gamma\\right) \\operatorname{cos}\\left(\\lambda_{f}\\right) + R_{s} \\operatorname{sin}\\left(\\theta\\right) + r_{m}\\right) \\operatorname{cos}\\left(\\psi\\right))\\mathbf{\\hat{n}_x} + (r_{m} \\operatorname{sin}\\left(\\psi\\right) - \\left(- R_{s} \\operatorname{sin}\\left(\\gamma\\right) \\operatorname{cos}\\left(\\lambda_{f}\\right) + R_{s} \\operatorname{sin}\\left(\\theta\\right) + r_{m}\\right) \\operatorname{sin}\\left(\\psi\\right))\\mathbf{\\hat{n}_y} + (R_{s} \\operatorname{cos}\\left(\\gamma\\right) \\operatorname{cos}\\left(\\lambda_{f}\\right) - R_{s} \\operatorname{cos}\\left(\\theta\\right))\\mathbf{\\hat{n}_z} -  R_{s} \\operatorname{sin}\\left(\\gamma - \\theta\\right)\\mathbf{\\hat{r20}_x} + R_{s} \\left(\\operatorname{cos}\\left(\\lambda_{f}\\right) - \\operatorname{cos}\\left(\\gamma - \\theta\\right)\\right)\\mathbf{\\hat{r20}_z}$$"
      ],
      "text/plain": [
       "(rₘ⋅cos(ψ) - (-Rₛ⋅sin(γ)⋅cos(λ_f) + Rₛ⋅sin(θ) + rₘ)⋅cos(ψ)) n_x + (rₘ⋅sin(ψ) - (-Rₛ⋅sin(γ)⋅cos(λ_f) + Rₛ⋅sin(θ) + rₘ)⋅sin(ψ)) n_y + (Rₛ⋅cos(γ)⋅cos(λ_f) - Rₛ⋅cos(θ)) n_z - Rₛ⋅sin(γ - θ) r20_x + Rₛ⋅(cos(λ_f) - cos(γ - θ)) r20_z"
      ]
     },
     "execution_count": 35,
     "metadata": {},
     "output_type": "execute_result"
    }
   ],
   "source": [
    "Roller_2 + rho_f2 -  r_f20"
   ]
  },
  {
   "cell_type": "markdown",
   "metadata": {},
   "source": [
    "## 变形后"
   ]
  },
  {
   "cell_type": "code",
   "execution_count": 36,
   "metadata": {},
   "outputs": [
    {
     "data": {
      "image/png": "[encoded data removed]",
      "text/latex": [
       "$$r_{z} \\sin{\\left (\\alpha \\right )} \\cos{\\left (\\gamma + \\phi_{x1} \\right )} - r_{z} \\sin{\\left (\\alpha - \\gamma \\right )} + \\rho_{k} \\sin{\\left (\\alpha \\right )} \\sin{\\left (\\gamma + \\phi_{x1} \\right )} - \\rho_{k} \\cos{\\left (\\alpha - \\gamma \\right )} + u_{y1} \\sin{\\left (\\alpha \\right )} \\sin{\\left (\\gamma \\right )} + u_{z1} \\sin{\\left (\\alpha \\right )} \\cos{\\left (\\gamma \\right )}$$"
      ],
      "text/plain": [
       "r_z⋅sin(α)⋅cos(γ + φₓ₁) - r_z⋅sin(α - γ) + ρₖ⋅sin(α)⋅sin(γ + φₓ₁) - ρₖ⋅cos(α -\n",
       " γ) + u_y1⋅sin(α)⋅sin(γ) + u_z1⋅sin(α)⋅cos(γ)"
      ]
     },
     "execution_count": 36,
     "metadata": {},
     "output_type": "execute_result"
    }
   ],
   "source": [
    "# left外滚道单位法向矢量\n",
    "n_o1 = -cos(psi) * cos(alpha) * N.x  - sin(psi) * cos(alpha) * N.y - sin(alpha) * N.z\n",
    "\n",
    "delta_o1 = dot(r_e1 - rho_e1_d, n_o1).simplify()\n",
    "delta_o1"
   ]
  },
  {
   "cell_type": "code",
   "execution_count": 37,
   "metadata": {},
   "outputs": [
    {
     "name": "stdout",
     "output_type": "stream",
     "text": [
      "r_z*sin(alpha)*cos(gamma + phi_x1) - r_z*sin(alpha - gamma) + rho_k*sin(alpha)*sin(gamma + phi_x1) - rho_k*cos(alpha - gamma) + u_y1*sin(alpha)*sin(gamma) + u_z1*sin(alpha)*cos(gamma)\n"
     ]
    }
   ],
   "source": [
    "print(delta_o1)"
   ]
  },
  {
   "cell_type": "code",
   "execution_count": 38,
   "metadata": {},
   "outputs": [
    {
     "data": {
      "image/png": "[encoded data removed]",
      "text/latex": [
       "$$r_{z} \\sin{\\left (\\alpha \\right )} \\cos{\\left (\\gamma + \\phi_{x2} \\right )} - r_{z} \\sin{\\left (\\alpha - \\gamma \\right )} + \\rho_{k} \\sin{\\left (\\alpha \\right )} \\sin{\\left (\\gamma + \\phi_{x2} \\right )} - \\rho_{k} \\cos{\\left (\\alpha - \\gamma \\right )} + u_{y2} \\sin{\\left (\\alpha \\right )} \\sin{\\left (\\gamma \\right )} + u_{z2} \\sin{\\left (\\alpha \\right )} \\cos{\\left (\\gamma \\right )}$$"
      ],
      "text/plain": [
       "r_z⋅sin(α)⋅cos(γ + φₓ₂) - r_z⋅sin(α - γ) + ρₖ⋅sin(α)⋅sin(γ + φₓ₂) - ρₖ⋅cos(α -\n",
       " γ) + u_y2⋅sin(α)⋅sin(γ) + u_z2⋅sin(α)⋅cos(γ)"
      ]
     },
     "execution_count": 38,
     "metadata": {},
     "output_type": "execute_result"
    }
   ],
   "source": [
    "# right外滚道单位法向矢量\n",
    "n_o2 = -cos(psi) * cos(alpha) * N.x  - sin(psi) * cos(alpha) * N.y + sin(alpha) * N.z\n",
    "\n",
    "delta_o2 = dot(r_e2 - rho_e2_d, n_o2).simplify()\n",
    "delta_o2"
   ]
  },
  {
   "cell_type": "code",
   "execution_count": 39,
   "metadata": {},
   "outputs": [
    {
     "name": "stdout",
     "output_type": "stream",
     "text": [
      "r_z*sin(alpha)*cos(gamma + phi_x2) - r_z*sin(alpha - gamma) + rho_k*sin(alpha)*sin(gamma + phi_x2) - rho_k*cos(alpha - gamma) + u_y2*sin(alpha)*sin(gamma) + u_z2*sin(alpha)*cos(gamma)\n"
     ]
    }
   ],
   "source": [
    "print(delta_o2)"
   ]
  },
  {
   "cell_type": "code",
   "execution_count": 40,
   "metadata": {},
   "outputs": [
    {
     "data": {
      "image/png": "[encoded data removed]",
      "text/latex": [
       "$$- r_{z} \\sin{\\left (\\beta \\right )} \\cos{\\left (\\gamma + \\phi_{x1} \\right )} + \\rho_{k} \\sin{\\left (\\beta \\right )} \\sin{\\left (\\gamma + \\phi_{x1} \\right )} - u_{y1} \\sin{\\left (\\beta \\right )} \\sin{\\left (\\gamma \\right )} - u_{z1} \\sin{\\left (\\beta \\right )} \\cos{\\left (\\gamma \\right )} + \\left(\\delta_{x} - r_{m} \\cos{\\left (\\psi \\right )}\\right) \\cos{\\left (\\beta \\right )} \\cos{\\left (\\psi \\right )} + \\left(\\delta_{y} - r_{m} \\sin{\\left (\\psi \\right )}\\right) \\sin{\\left (\\psi \\right )} \\cos{\\left (\\beta \\right )} - \\left(\\sin{\\left (\\beta \\right )} \\sin{\\left (\\gamma_{x} \\right )} + \\sin{\\left (\\psi \\right )} \\cos{\\left (\\beta \\right )} \\cos{\\left (\\gamma_{x} \\right )}\\right) \\left(- r_{m} + r_{z} \\sin{\\left (\\gamma \\right )} + \\rho_{k} \\cos{\\left (\\gamma \\right )}\\right) \\sin{\\left (\\psi \\right )} + \\left(\\delta_{0} + \\delta_{z} + e_{w}\\right) \\sin{\\left (\\beta \\right )} - \\left(e_{w} - r_{z} \\cos{\\left (\\gamma \\right )} + \\rho_{k} \\sin{\\left (\\gamma \\right )}\\right) \\left(\\sin{\\left (\\beta \\right )} \\cos{\\left (\\gamma_{x} \\right )} \\cos{\\left (\\gamma_{y} \\right )} - \\sin{\\left (\\gamma_{x} \\right )} \\sin{\\left (\\psi \\right )} \\cos{\\left (\\beta \\right )} \\cos{\\left (\\gamma_{y} \\right )} + \\sin{\\left (\\gamma_{y} \\right )} \\cos{\\left (\\beta \\right )} \\cos{\\left (\\psi \\right )}\\right) - \\left(- r_{m} + r_{z} \\sin{\\left (\\gamma \\right )} + \\rho_{k} \\cos{\\left (\\gamma \\right )}\\right) \\left(- \\sin{\\left (\\beta \\right )} \\sin{\\left (\\gamma_{y} \\right )} \\cos{\\left (\\gamma_{x} \\right )} + \\sin{\\left (\\gamma_{x} \\right )} \\sin{\\left (\\gamma_{y} \\right )} \\sin{\\left (\\psi \\right )} \\cos{\\left (\\beta \\right )} + \\cos{\\left (\\beta \\right )} \\cos{\\left (\\gamma_{y} \\right )} \\cos{\\left (\\psi \\right )}\\right) \\cos{\\left (\\psi \\right )}$$"
      ],
      "text/plain": [
       "-r_z⋅sin(β)⋅cos(γ + φₓ₁) + ρₖ⋅sin(β)⋅sin(γ + φₓ₁) - u_y1⋅sin(β)⋅sin(γ) - u_z1⋅\n",
       "sin(β)⋅cos(γ) + (δₓ - rₘ⋅cos(ψ))⋅cos(β)⋅cos(ψ) + (δ_y - rₘ⋅sin(ψ))⋅sin(ψ)⋅cos(\n",
       "β) - (sin(β)⋅sin(γₓ) + sin(ψ)⋅cos(β)⋅cos(γₓ))⋅(-rₘ + r_z⋅sin(γ) + ρₖ⋅cos(γ))⋅s\n",
       "in(ψ) + (δ₀ + δ_z + e_w)⋅sin(β) - (e_w - r_z⋅cos(γ) + ρₖ⋅sin(γ))⋅(sin(β)⋅cos(γ\n",
       "ₓ)⋅cos(γ_y) - sin(γₓ)⋅sin(ψ)⋅cos(β)⋅cos(γ_y) + sin(γ_y)⋅cos(β)⋅cos(ψ)) - (-rₘ \n",
       "+ r_z⋅sin(γ) + ρₖ⋅cos(γ))⋅(-sin(β)⋅sin(γ_y)⋅cos(γₓ) + sin(γₓ)⋅sin(γ_y)⋅sin(ψ)⋅\n",
       "cos(β) + cos(β)⋅cos(γ_y)⋅cos(ψ))⋅cos(ψ)"
      ]
     },
     "execution_count": 40,
     "metadata": {},
     "output_type": "execute_result"
    }
   ],
   "source": [
    "#内滚道单位法向矢量\n",
    "n_i1 = cos(psi) * cos(beta) * N.x + sin(psi) * cos(beta) * N.y + sin(beta) * N.z\n",
    "\n",
    "delta_i1 = dot(r_i11 - rho_i1_d, n_i1).simplify()\n",
    "delta_i1"
   ]
  },
  {
   "cell_type": "code",
   "execution_count": 41,
   "metadata": {},
   "outputs": [
    {
     "data": {
      "image/png": "[encoded data removed]",
      "text/latex": [
       "$$\\delta_{0} \\sin{\\left (\\beta \\right )} + \\delta_{x} \\cos{\\left (\\beta \\right )} \\cos{\\left (\\psi \\right )} + \\delta_{y} \\sin{\\left (\\psi \\right )} \\cos{\\left (\\beta \\right )} + \\delta_{z} \\sin{\\left (\\beta \\right )} + e_{w} \\gamma_{x} \\sin{\\left (\\psi \\right )} \\cos{\\left (\\beta \\right )} - e_{w} \\gamma_{y} \\cos{\\left (\\beta \\right )} \\cos{\\left (\\psi \\right )} + \\gamma_{x} r_{m} \\sin{\\left (\\beta \\right )} \\sin{\\left (\\psi \\right )} - \\gamma_{x} r_{z} \\sin{\\left (\\psi \\right )} \\cos{\\left (\\beta - \\gamma \\right )} - \\gamma_{x} \\rho_{k} \\sin{\\left (\\psi \\right )} \\sin{\\left (\\beta - \\gamma \\right )} - \\gamma_{y} r_{m} \\sin{\\left (\\beta \\right )} \\cos{\\left (\\psi \\right )} + \\gamma_{y} r_{z} \\cos{\\left (\\psi \\right )} \\cos{\\left (\\beta - \\gamma \\right )} + \\gamma_{y} \\rho_{k} \\sin{\\left (\\beta - \\gamma \\right )} \\cos{\\left (\\psi \\right )} - r_{z} \\sin{\\left (\\beta \\right )} \\cos{\\left (\\gamma + \\phi_{x1} \\right )} + r_{z} \\sin{\\left (\\beta - \\gamma \\right )} + \\rho_{k} \\sin{\\left (\\beta \\right )} \\sin{\\left (\\gamma + \\phi_{x1} \\right )} - \\rho_{k} \\cos{\\left (\\beta - \\gamma \\right )} - u_{y1} \\sin{\\left (\\beta \\right )} \\sin{\\left (\\gamma \\right )} - u_{z1} \\sin{\\left (\\beta \\right )} \\cos{\\left (\\gamma \\right )}$$"
      ],
      "text/plain": [
       "δ₀⋅sin(β) + δₓ⋅cos(β)⋅cos(ψ) + δ_y⋅sin(ψ)⋅cos(β) + δ_z⋅sin(β) + e_w⋅γₓ⋅sin(ψ)⋅\n",
       "cos(β) - e_w⋅γ_y⋅cos(β)⋅cos(ψ) + γₓ⋅rₘ⋅sin(β)⋅sin(ψ) - γₓ⋅r_z⋅sin(ψ)⋅cos(β - γ\n",
       ") - γₓ⋅ρₖ⋅sin(ψ)⋅sin(β - γ) - γ_y⋅rₘ⋅sin(β)⋅cos(ψ) + γ_y⋅r_z⋅cos(ψ)⋅cos(β - γ)\n",
       " + γ_y⋅ρₖ⋅sin(β - γ)⋅cos(ψ) - r_z⋅sin(β)⋅cos(γ + φₓ₁) + r_z⋅sin(β - γ) + ρₖ⋅si\n",
       "n(β)⋅sin(γ + φₓ₁) - ρₖ⋅cos(β - γ) - u_y1⋅sin(β)⋅sin(γ) - u_z1⋅sin(β)⋅cos(γ)"
      ]
     },
     "execution_count": 41,
     "metadata": {},
     "output_type": "execute_result"
    }
   ],
   "source": [
    "delta_i11 = delta_i1.subs({cos(gamma_y):1,cos(gamma_x):1,sin(gamma_x):gamma_x,sin(gamma_y):gamma_y}).subs({gamma_x*gamma_y:0}).simplify() \n",
    "delta_i11"
   ]
  },
  {
   "cell_type": "code",
   "execution_count": 42,
   "metadata": {},
   "outputs": [
    {
     "name": "stdout",
     "output_type": "stream",
     "text": [
      "delta_0*sin(beta) + delta_x*cos(beta)*cos(psi) + delta_y*sin(psi)*cos(beta) + delta_z*sin(beta) + e_w*gamma_x*sin(psi)*cos(beta) - e_w*gamma_y*cos(beta)*cos(psi) + gamma_x*r_m*sin(beta)*sin(psi) - gamma_x*r_z*sin(psi)*cos(beta - gamma) - gamma_x*rho_k*sin(psi)*sin(beta - gamma) - gamma_y*r_m*sin(beta)*cos(psi) + gamma_y*r_z*cos(psi)*cos(beta - gamma) + gamma_y*rho_k*sin(beta - gamma)*cos(psi) - r_z*sin(beta)*cos(gamma + phi_x1) + r_z*sin(beta - gamma) + rho_k*sin(beta)*sin(gamma + phi_x1) - rho_k*cos(beta - gamma) - u_y1*sin(beta)*sin(gamma) - u_z1*sin(beta)*cos(gamma)\n"
     ]
    }
   ],
   "source": [
    "print(delta_i11)"
   ]
  },
  {
   "cell_type": "code",
   "execution_count": 43,
   "metadata": {},
   "outputs": [
    {
     "data": {
      "image/png": "[encoded data removed]",
      "text/latex": [
       "$$- r_{z} \\sin{\\left (\\beta \\right )} \\cos{\\left (\\gamma + \\phi_{x2} \\right )} + \\rho_{k} \\sin{\\left (\\beta \\right )} \\sin{\\left (\\gamma + \\phi_{x2} \\right )} - u_{y2} \\sin{\\left (\\beta \\right )} \\sin{\\left (\\gamma \\right )} - u_{z2} \\sin{\\left (\\beta \\right )} \\cos{\\left (\\gamma \\right )} + \\left(\\delta_{x} - r_{m} \\cos{\\left (\\psi \\right )}\\right) \\cos{\\left (\\beta \\right )} \\cos{\\left (\\psi \\right )} + \\left(\\delta_{y} - r_{m} \\sin{\\left (\\psi \\right )}\\right) \\sin{\\left (\\psi \\right )} \\cos{\\left (\\beta \\right )} - \\left(\\sin{\\left (\\beta \\right )} \\sin{\\left (\\gamma_{x} \\right )} - \\sin{\\left (\\psi \\right )} \\cos{\\left (\\beta \\right )} \\cos{\\left (\\gamma_{x} \\right )}\\right) \\left(- r_{m} + r_{z} \\sin{\\left (\\gamma \\right )} + \\rho_{k} \\cos{\\left (\\gamma \\right )}\\right) \\sin{\\left (\\psi \\right )} + \\left(\\delta_{0} - \\delta_{z} + e_{w}\\right) \\sin{\\left (\\beta \\right )} + \\left(e_{w} - r_{z} \\cos{\\left (\\gamma \\right )} + \\rho_{k} \\sin{\\left (\\gamma \\right )}\\right) \\left(\\sin{\\left (\\beta \\right )} \\cos{\\left (\\gamma_{x} \\right )} \\cos{\\left (\\gamma_{y} \\right )} + \\sin{\\left (\\gamma_{x} \\right )} \\sin{\\left (\\psi \\right )} \\cos{\\left (\\beta \\right )} \\cos{\\left (\\gamma_{y} \\right )} + \\sin{\\left (\\gamma_{y} \\right )} \\cos{\\left (\\beta \\right )} \\cos{\\left (\\psi \\right )}\\right) + \\left(- r_{m} + r_{z} \\sin{\\left (\\gamma \\right )} + \\rho_{k} \\cos{\\left (\\gamma \\right )}\\right) \\left(\\sin{\\left (\\beta \\right )} \\sin{\\left (\\gamma_{y} \\right )} \\cos{\\left (\\gamma_{x} \\right )} + \\sin{\\left (\\gamma_{x} \\right )} \\sin{\\left (\\gamma_{y} \\right )} \\sin{\\left (\\psi \\right )} \\cos{\\left (\\beta \\right )} - \\cos{\\left (\\beta \\right )} \\cos{\\left (\\gamma_{y} \\right )} \\cos{\\left (\\psi \\right )}\\right) \\cos{\\left (\\psi \\right )}$$"
      ],
      "text/plain": [
       "-r_z⋅sin(β)⋅cos(γ + φₓ₂) + ρₖ⋅sin(β)⋅sin(γ + φₓ₂) - u_y2⋅sin(β)⋅sin(γ) - u_z2⋅\n",
       "sin(β)⋅cos(γ) + (δₓ - rₘ⋅cos(ψ))⋅cos(β)⋅cos(ψ) + (δ_y - rₘ⋅sin(ψ))⋅sin(ψ)⋅cos(\n",
       "β) - (sin(β)⋅sin(γₓ) - sin(ψ)⋅cos(β)⋅cos(γₓ))⋅(-rₘ + r_z⋅sin(γ) + ρₖ⋅cos(γ))⋅s\n",
       "in(ψ) + (δ₀ - δ_z + e_w)⋅sin(β) + (e_w - r_z⋅cos(γ) + ρₖ⋅sin(γ))⋅(sin(β)⋅cos(γ\n",
       "ₓ)⋅cos(γ_y) + sin(γₓ)⋅sin(ψ)⋅cos(β)⋅cos(γ_y) + sin(γ_y)⋅cos(β)⋅cos(ψ)) + (-rₘ \n",
       "+ r_z⋅sin(γ) + ρₖ⋅cos(γ))⋅(sin(β)⋅sin(γ_y)⋅cos(γₓ) + sin(γₓ)⋅sin(γ_y)⋅sin(ψ)⋅c\n",
       "os(β) - cos(β)⋅cos(γ_y)⋅cos(ψ))⋅cos(ψ)"
      ]
     },
     "execution_count": 43,
     "metadata": {},
     "output_type": "execute_result"
    }
   ],
   "source": [
    "#内滚道单位法向矢量\n",
    "n_i2 = cos(psi) * cos(beta) * N.x + sin(psi) * cos(beta) * N.y - sin(beta) * N.z\n",
    "\n",
    "delta_i2 = dot(r_i21 - rho_i2_d, n_i2).simplify()\n",
    "delta_i2"
   ]
  },
  {
   "cell_type": "code",
   "execution_count": 45,
   "metadata": {},
   "outputs": [
    {
     "name": "stdout",
     "output_type": "stream",
     "text": [
      "-r_z*sin(beta)*cos(gamma + phi_x2) + rho_k*sin(beta)*sin(gamma + phi_x2) - u_y2*sin(beta)*sin(gamma) - u_z2*sin(beta)*cos(gamma) + (delta_x - r_m*cos(psi))*cos(beta)*cos(psi) + (delta_y - r_m*sin(psi))*sin(psi)*cos(beta) - (sin(beta)*sin(gamma_x) - sin(psi)*cos(beta)*cos(gamma_x))*(-r_m + r_z*sin(gamma) + rho_k*cos(gamma))*sin(psi) + (delta_0 - delta_z + e_w)*sin(beta) + (e_w - r_z*cos(gamma) + rho_k*sin(gamma))*(sin(beta)*cos(gamma_x)*cos(gamma_y) + sin(gamma_x)*sin(psi)*cos(beta)*cos(gamma_y) + sin(gamma_y)*cos(beta)*cos(psi)) + (-r_m + r_z*sin(gamma) + rho_k*cos(gamma))*(sin(beta)*sin(gamma_y)*cos(gamma_x) + sin(gamma_x)*sin(gamma_y)*sin(psi)*cos(beta) - cos(beta)*cos(gamma_y)*cos(psi))*cos(psi)\n"
     ]
    }
   ],
   "source": [
    "print(delta_i2)"
   ]
  },
  {
   "cell_type": "code",
   "execution_count": 46,
   "metadata": {},
   "outputs": [
    {
     "data": {
      "image/png": "[encoded data removed]",
      "text/latex": [
       "$$- R_{s} \\left(\\cos{\\left (\\lambda_{f} \\right )} - \\cos{\\left (\\gamma - \\theta \\right )}\\right) \\cos{\\left (\\theta \\right )} \\cos{\\left (\\gamma + \\phi_{x1} \\right )} + R_{s} \\sin{\\left (\\gamma + \\phi_{x1} \\right )} \\sin{\\left (\\gamma - \\theta \\right )} \\cos{\\left (\\theta \\right )} - u_{y1} \\sin{\\left (\\gamma \\right )} \\cos{\\left (\\theta \\right )} - u_{z1} \\cos{\\left (\\gamma \\right )} \\cos{\\left (\\theta \\right )} - \\left(\\delta_{x} - r_{m} \\cos{\\left (\\psi \\right )}\\right) \\sin{\\left (\\theta \\right )} \\cos{\\left (\\psi \\right )} - \\left(\\delta_{y} - r_{m} \\sin{\\left (\\psi \\right )}\\right) \\sin{\\left (\\psi \\right )} \\sin{\\left (\\theta \\right )} + \\left(\\sin{\\left (\\gamma_{x} \\right )} \\cos{\\left (\\theta \\right )} - \\sin{\\left (\\psi \\right )} \\sin{\\left (\\theta \\right )} \\cos{\\left (\\gamma_{x} \\right )}\\right) \\left(- R_{s} \\sin{\\left (\\gamma \\right )} \\cos{\\left (\\lambda_{f} \\right )} + R_{s} \\sin{\\left (\\theta \\right )} + r_{m}\\right) \\sin{\\left (\\psi \\right )} + \\left(\\delta_{0} + \\delta_{z} + e_{w}\\right) \\cos{\\left (\\theta \\right )} - \\left(- R_{s} \\sin{\\left (\\gamma \\right )} \\cos{\\left (\\lambda_{f} \\right )} + R_{s} \\sin{\\left (\\theta \\right )} + r_{m}\\right) \\left(\\sin{\\left (\\gamma_{x} \\right )} \\sin{\\left (\\gamma_{y} \\right )} \\sin{\\left (\\psi \\right )} \\sin{\\left (\\theta \\right )} + \\sin{\\left (\\gamma_{y} \\right )} \\cos{\\left (\\gamma_{x} \\right )} \\cos{\\left (\\theta \\right )} + \\sin{\\left (\\theta \\right )} \\cos{\\left (\\gamma_{y} \\right )} \\cos{\\left (\\psi \\right )}\\right) \\cos{\\left (\\psi \\right )} - \\left(- R_{s} \\cos{\\left (\\gamma \\right )} \\cos{\\left (\\lambda_{f} \\right )} + R_{s} \\cos{\\left (\\theta \\right )} + e_{w}\\right) \\left(\\sin{\\left (\\gamma_{x} \\right )} \\sin{\\left (\\psi \\right )} \\sin{\\left (\\theta \\right )} \\cos{\\left (\\gamma_{y} \\right )} - \\sin{\\left (\\gamma_{y} \\right )} \\sin{\\left (\\theta \\right )} \\cos{\\left (\\psi \\right )} + \\cos{\\left (\\gamma_{x} \\right )} \\cos{\\left (\\gamma_{y} \\right )} \\cos{\\left (\\theta \\right )}\\right)$$"
      ],
      "text/plain": [
       "-Rₛ⋅(cos(λ_f) - cos(γ - θ))⋅cos(θ)⋅cos(γ + φₓ₁) + Rₛ⋅sin(γ + φₓ₁)⋅sin(γ - θ)⋅c\n",
       "os(θ) - u_y1⋅sin(γ)⋅cos(θ) - u_z1⋅cos(γ)⋅cos(θ) - (δₓ - rₘ⋅cos(ψ))⋅sin(θ)⋅cos(\n",
       "ψ) - (δ_y - rₘ⋅sin(ψ))⋅sin(ψ)⋅sin(θ) + (sin(γₓ)⋅cos(θ) - sin(ψ)⋅sin(θ)⋅cos(γₓ)\n",
       ")⋅(-Rₛ⋅sin(γ)⋅cos(λ_f) + Rₛ⋅sin(θ) + rₘ)⋅sin(ψ) + (δ₀ + δ_z + e_w)⋅cos(θ) - (-\n",
       "Rₛ⋅sin(γ)⋅cos(λ_f) + Rₛ⋅sin(θ) + rₘ)⋅(sin(γₓ)⋅sin(γ_y)⋅sin(ψ)⋅sin(θ) + sin(γ_y\n",
       ")⋅cos(γₓ)⋅cos(θ) + sin(θ)⋅cos(γ_y)⋅cos(ψ))⋅cos(ψ) - (-Rₛ⋅cos(γ)⋅cos(λ_f) + Rₛ⋅\n",
       "cos(θ) + e_w)⋅(sin(γₓ)⋅sin(ψ)⋅sin(θ)⋅cos(γ_y) - sin(γ_y)⋅sin(θ)⋅cos(ψ) + cos(γ\n",
       "ₓ)⋅cos(γ_y)⋅cos(θ))"
      ]
     },
     "execution_count": 46,
     "metadata": {},
     "output_type": "execute_result"
    }
   ],
   "source": [
    "#档边单位法向矢量\n",
    "n_f1 = -cos(psi) * sin(theta) * N.x  - sin(psi) * sin(theta) * N.y + cos(theta) * N.z\n",
    "\n",
    "delta_f1 = dot(r_f11 - rho_f1_d, n_f1).simplify()\n",
    "delta_f1"
   ]
  },
  {
   "cell_type": "code",
   "execution_count": 47,
   "metadata": {},
   "outputs": [
    {
     "data": {
      "image/png": "[encoded data removed]",
      "text/latex": [
       "$$- R_{s} \\gamma_{x} \\sin{\\left (\\psi \\right )} \\sin{\\left (\\gamma - \\theta \\right )} \\cos{\\left (\\lambda_{f} \\right )} + R_{s} \\gamma_{y} \\sin{\\left (\\gamma - \\theta \\right )} \\cos{\\left (\\lambda_{f} \\right )} \\cos{\\left (\\psi \\right )} - R_{s} \\cos{\\left (\\lambda_{f} \\right )} \\cos{\\left (\\theta \\right )} \\cos{\\left (\\gamma + \\phi_{x1} \\right )} + R_{s} \\cos{\\left (\\lambda_{f} \\right )} \\cos{\\left (\\gamma - \\theta \\right )} + R_{s} \\cos{\\left (\\theta \\right )} \\cos{\\left (\\phi_{x1} + \\theta \\right )} - R_{s} + \\delta_{0} \\cos{\\left (\\theta \\right )} - \\delta_{x} \\sin{\\left (\\theta \\right )} \\cos{\\left (\\psi \\right )} - \\delta_{y} \\sin{\\left (\\psi \\right )} \\sin{\\left (\\theta \\right )} + \\delta_{z} \\cos{\\left (\\theta \\right )} - e_{w} \\gamma_{x} \\sin{\\left (\\psi \\right )} \\sin{\\left (\\theta \\right )} + e_{w} \\gamma_{y} \\sin{\\left (\\theta \\right )} \\cos{\\left (\\psi \\right )} + \\gamma_{x} r_{m} \\sin{\\left (\\psi \\right )} \\cos{\\left (\\theta \\right )} - \\gamma_{y} r_{m} \\cos{\\left (\\psi \\right )} \\cos{\\left (\\theta \\right )} - u_{y1} \\sin{\\left (\\gamma \\right )} \\cos{\\left (\\theta \\right )} - u_{z1} \\cos{\\left (\\gamma \\right )} \\cos{\\left (\\theta \\right )}$$"
      ],
      "text/plain": [
       "-Rₛ⋅γₓ⋅sin(ψ)⋅sin(γ - θ)⋅cos(λ_f) + Rₛ⋅γ_y⋅sin(γ - θ)⋅cos(λ_f)⋅cos(ψ) - Rₛ⋅cos\n",
       "(λ_f)⋅cos(θ)⋅cos(γ + φₓ₁) + Rₛ⋅cos(λ_f)⋅cos(γ - θ) + Rₛ⋅cos(θ)⋅cos(φₓ₁ + θ) - \n",
       "Rₛ + δ₀⋅cos(θ) - δₓ⋅sin(θ)⋅cos(ψ) - δ_y⋅sin(ψ)⋅sin(θ) + δ_z⋅cos(θ) - e_w⋅γₓ⋅si\n",
       "n(ψ)⋅sin(θ) + e_w⋅γ_y⋅sin(θ)⋅cos(ψ) + γₓ⋅rₘ⋅sin(ψ)⋅cos(θ) - γ_y⋅rₘ⋅cos(ψ)⋅cos(\n",
       "θ) - u_y1⋅sin(γ)⋅cos(θ) - u_z1⋅cos(γ)⋅cos(θ)"
      ]
     },
     "execution_count": 47,
     "metadata": {},
     "output_type": "execute_result"
    }
   ],
   "source": [
    "deltaf11 = delta_f1.subs({cos(gamma_y):1,cos(gamma_x):1,sin(gamma_x):gamma_x,sin(gamma_y):gamma_y}).subs({gamma_x*gamma_y:0}).simplify() \n",
    "deltaf11"
   ]
  },
  {
   "cell_type": "code",
   "execution_count": 48,
   "metadata": {},
   "outputs": [
    {
     "name": "stdout",
     "output_type": "stream",
     "text": [
      "-R_s*gamma_x*sin(psi)*sin(gamma - theta)*cos(lambda_f) + R_s*gamma_y*sin(gamma - theta)*cos(lambda_f)*cos(psi) - R_s*cos(lambda_f)*cos(theta)*cos(gamma + phi_x1) + R_s*cos(lambda_f)*cos(gamma - theta) + R_s*cos(theta)*cos(phi_x1 + theta) - R_s + delta_0*cos(theta) - delta_x*sin(theta)*cos(psi) - delta_y*sin(psi)*sin(theta) + delta_z*cos(theta) - e_w*gamma_x*sin(psi)*sin(theta) + e_w*gamma_y*sin(theta)*cos(psi) + gamma_x*r_m*sin(psi)*cos(theta) - gamma_y*r_m*cos(psi)*cos(theta) - u_y1*sin(gamma)*cos(theta) - u_z1*cos(gamma)*cos(theta)\n"
     ]
    }
   ],
   "source": [
    "print(deltaf11)"
   ]
  },
  {
   "cell_type": "code",
   "execution_count": 49,
   "metadata": {},
   "outputs": [
    {
     "data": {
      "image/png": "[encoded data removed]",
      "text/latex": [
       "$$- R_{s} \\left(\\cos{\\left (\\lambda_{f} \\right )} - \\cos{\\left (\\gamma - \\theta \\right )}\\right) \\cos{\\left (\\theta \\right )} \\cos{\\left (\\gamma + \\phi_{x2} \\right )} + R_{s} \\sin{\\left (\\gamma + \\phi_{x2} \\right )} \\sin{\\left (\\gamma - \\theta \\right )} \\cos{\\left (\\theta \\right )} - u_{y2} \\sin{\\left (\\gamma \\right )} \\cos{\\left (\\theta \\right )} - u_{z2} \\cos{\\left (\\gamma \\right )} \\cos{\\left (\\theta \\right )} - \\left(\\delta_{x} - r_{m} \\cos{\\left (\\psi \\right )}\\right) \\sin{\\left (\\theta \\right )} \\cos{\\left (\\psi \\right )} - \\left(\\delta_{y} - r_{m} \\sin{\\left (\\psi \\right )}\\right) \\sin{\\left (\\psi \\right )} \\sin{\\left (\\theta \\right )} + \\left(\\sin{\\left (\\gamma_{x} \\right )} \\cos{\\left (\\theta \\right )} + \\sin{\\left (\\psi \\right )} \\sin{\\left (\\theta \\right )} \\cos{\\left (\\gamma_{x} \\right )}\\right) \\left(- R_{s} \\sin{\\left (\\gamma \\right )} \\cos{\\left (\\lambda_{f} \\right )} + R_{s} \\sin{\\left (\\theta \\right )} + r_{m}\\right) \\sin{\\left (\\psi \\right )} + \\left(\\delta_{0} - \\delta_{z} + e_{w}\\right) \\cos{\\left (\\theta \\right )} - \\left(- R_{s} \\sin{\\left (\\gamma \\right )} \\cos{\\left (\\lambda_{f} \\right )} + R_{s} \\sin{\\left (\\theta \\right )} + r_{m}\\right) \\left(- \\sin{\\left (\\gamma_{x} \\right )} \\sin{\\left (\\gamma_{y} \\right )} \\sin{\\left (\\psi \\right )} \\sin{\\left (\\theta \\right )} + \\sin{\\left (\\gamma_{y} \\right )} \\cos{\\left (\\gamma_{x} \\right )} \\cos{\\left (\\theta \\right )} + \\sin{\\left (\\theta \\right )} \\cos{\\left (\\gamma_{y} \\right )} \\cos{\\left (\\psi \\right )}\\right) \\cos{\\left (\\psi \\right )} - \\left(- R_{s} \\cos{\\left (\\gamma \\right )} \\cos{\\left (\\lambda_{f} \\right )} + R_{s} \\cos{\\left (\\theta \\right )} + e_{w}\\right) \\left(\\sin{\\left (\\gamma_{x} \\right )} \\sin{\\left (\\psi \\right )} \\sin{\\left (\\theta \\right )} \\cos{\\left (\\gamma_{y} \\right )} + \\sin{\\left (\\gamma_{y} \\right )} \\sin{\\left (\\theta \\right )} \\cos{\\left (\\psi \\right )} - \\cos{\\left (\\gamma_{x} \\right )} \\cos{\\left (\\gamma_{y} \\right )} \\cos{\\left (\\theta \\right )}\\right)$$"
      ],
      "text/plain": [
       "-Rₛ⋅(cos(λ_f) - cos(γ - θ))⋅cos(θ)⋅cos(γ + φₓ₂) + Rₛ⋅sin(γ + φₓ₂)⋅sin(γ - θ)⋅c\n",
       "os(θ) - u_y2⋅sin(γ)⋅cos(θ) - u_z2⋅cos(γ)⋅cos(θ) - (δₓ - rₘ⋅cos(ψ))⋅sin(θ)⋅cos(\n",
       "ψ) - (δ_y - rₘ⋅sin(ψ))⋅sin(ψ)⋅sin(θ) + (sin(γₓ)⋅cos(θ) + sin(ψ)⋅sin(θ)⋅cos(γₓ)\n",
       ")⋅(-Rₛ⋅sin(γ)⋅cos(λ_f) + Rₛ⋅sin(θ) + rₘ)⋅sin(ψ) + (δ₀ - δ_z + e_w)⋅cos(θ) - (-\n",
       "Rₛ⋅sin(γ)⋅cos(λ_f) + Rₛ⋅sin(θ) + rₘ)⋅(-sin(γₓ)⋅sin(γ_y)⋅sin(ψ)⋅sin(θ) + sin(γ_\n",
       "y)⋅cos(γₓ)⋅cos(θ) + sin(θ)⋅cos(γ_y)⋅cos(ψ))⋅cos(ψ) - (-Rₛ⋅cos(γ)⋅cos(λ_f) + Rₛ\n",
       "⋅cos(θ) + e_w)⋅(sin(γₓ)⋅sin(ψ)⋅sin(θ)⋅cos(γ_y) + sin(γ_y)⋅sin(θ)⋅cos(ψ) - cos(\n",
       "γₓ)⋅cos(γ_y)⋅cos(θ))"
      ]
     },
     "execution_count": 49,
     "metadata": {},
     "output_type": "execute_result"
    }
   ],
   "source": [
    "#档边单位法向矢量\n",
    "n_f2 = -cos(psi) * sin(theta) * N.x  - sin(psi) * sin(theta) * N.y - cos(theta) * N.z\n",
    "\n",
    "delta_f2 = dot(r_f21 - rho_f2_d, n_f2).simplify()\n",
    "delta_f2"
   ]
  },
  {
   "cell_type": "code",
   "execution_count": 50,
   "metadata": {},
   "outputs": [
    {
     "data": {
      "image/png": "[encoded data removed]",
      "text/latex": [
       "$$- R_{s} \\left(\\cos{\\left (\\lambda_{f} \\right )} - \\cos{\\left (\\gamma - \\theta \\right )}\\right) \\cos{\\left (\\theta \\right )} \\cos{\\left (\\gamma + \\phi_{x2} \\right )} + R_{s} \\sin{\\left (\\gamma + \\phi_{x2} \\right )} \\sin{\\left (\\gamma - \\theta \\right )} \\cos{\\left (\\theta \\right )} - u_{y2} \\sin{\\left (\\gamma \\right )} \\cos{\\left (\\theta \\right )} - u_{z2} \\cos{\\left (\\gamma \\right )} \\cos{\\left (\\theta \\right )} - \\left(\\delta_{x} - r_{m} \\cos{\\left (\\psi \\right )}\\right) \\sin{\\left (\\theta \\right )} \\cos{\\left (\\psi \\right )} - \\left(\\delta_{y} - r_{m} \\sin{\\left (\\psi \\right )}\\right) \\sin{\\left (\\psi \\right )} \\sin{\\left (\\theta \\right )} + \\left(\\gamma_{x} \\cos{\\left (\\theta \\right )} + \\sin{\\left (\\psi \\right )} \\sin{\\left (\\theta \\right )}\\right) \\left(- R_{s} \\sin{\\left (\\gamma \\right )} \\cos{\\left (\\lambda_{f} \\right )} + R_{s} \\sin{\\left (\\theta \\right )} + r_{m}\\right) \\sin{\\left (\\psi \\right )} - \\left(\\gamma_{y} \\cos{\\left (\\theta \\right )} + \\sin{\\left (\\theta \\right )} \\cos{\\left (\\psi \\right )}\\right) \\left(- R_{s} \\sin{\\left (\\gamma \\right )} \\cos{\\left (\\lambda_{f} \\right )} + R_{s} \\sin{\\left (\\theta \\right )} + r_{m}\\right) \\cos{\\left (\\psi \\right )} + \\left(\\delta_{0} - \\delta_{z} + e_{w}\\right) \\cos{\\left (\\theta \\right )} - \\left(- R_{s} \\cos{\\left (\\gamma \\right )} \\cos{\\left (\\lambda_{f} \\right )} + R_{s} \\cos{\\left (\\theta \\right )} + e_{w}\\right) \\left(\\gamma_{x} \\sin{\\left (\\psi \\right )} \\sin{\\left (\\theta \\right )} + \\gamma_{y} \\sin{\\left (\\theta \\right )} \\cos{\\left (\\psi \\right )} - \\cos{\\left (\\theta \\right )}\\right)$$"
      ],
      "text/plain": [
       "-Rₛ⋅(cos(λ_f) - cos(γ - θ))⋅cos(θ)⋅cos(γ + φₓ₂) + Rₛ⋅sin(γ + φₓ₂)⋅sin(γ - θ)⋅c\n",
       "os(θ) - u_y2⋅sin(γ)⋅cos(θ) - u_z2⋅cos(γ)⋅cos(θ) - (δₓ - rₘ⋅cos(ψ))⋅sin(θ)⋅cos(\n",
       "ψ) - (δ_y - rₘ⋅sin(ψ))⋅sin(ψ)⋅sin(θ) + (γₓ⋅cos(θ) + sin(ψ)⋅sin(θ))⋅(-Rₛ⋅sin(γ)\n",
       "⋅cos(λ_f) + Rₛ⋅sin(θ) + rₘ)⋅sin(ψ) - (γ_y⋅cos(θ) + sin(θ)⋅cos(ψ))⋅(-Rₛ⋅sin(γ)⋅\n",
       "cos(λ_f) + Rₛ⋅sin(θ) + rₘ)⋅cos(ψ) + (δ₀ - δ_z + e_w)⋅cos(θ) - (-Rₛ⋅cos(γ)⋅cos(\n",
       "λ_f) + Rₛ⋅cos(θ) + e_w)⋅(γₓ⋅sin(ψ)⋅sin(θ) + γ_y⋅sin(θ)⋅cos(ψ) - cos(θ))"
      ]
     },
     "execution_count": 50,
     "metadata": {},
     "output_type": "execute_result"
    }
   ],
   "source": [
    "deltaf21 = delta_f2.subs({cos(gamma_y):1,cos(gamma_x):1,sin(gamma_x):gamma_x,sin(gamma_y):gamma_y}).subs({gamma_x*gamma_y:0}).simplify() \n",
    "deltaf21"
   ]
  },
  {
   "cell_type": "code",
   "execution_count": 51,
   "metadata": {},
   "outputs": [
    {
     "name": "stdout",
     "output_type": "stream",
     "text": [
      "-R_s*(cos(lambda_f) - cos(gamma - theta))*cos(theta)*cos(gamma + phi_x2) + R_s*sin(gamma + phi_x2)*sin(gamma - theta)*cos(theta) - u_y2*sin(gamma)*cos(theta) - u_z2*cos(gamma)*cos(theta) - (delta_x - r_m*cos(psi))*sin(theta)*cos(psi) - (delta_y - r_m*sin(psi))*sin(psi)*sin(theta) + (gamma_x*cos(theta) + sin(psi)*sin(theta))*(-R_s*sin(gamma)*cos(lambda_f) + R_s*sin(theta) + r_m)*sin(psi) - (gamma_y*cos(theta) + sin(theta)*cos(psi))*(-R_s*sin(gamma)*cos(lambda_f) + R_s*sin(theta) + r_m)*cos(psi) + (delta_0 - delta_z + e_w)*cos(theta) - (-R_s*cos(gamma)*cos(lambda_f) + R_s*cos(theta) + e_w)*(gamma_x*sin(psi)*sin(theta) + gamma_y*sin(theta)*cos(psi) - cos(theta))\n"
     ]
    }
   ],
   "source": [
    "print(deltaf21)"
   ]
  },
  {
   "cell_type": "markdown",
   "metadata": {},
   "source": [
    "外滚道平衡"
   ]
  },
  {
   "cell_type": "code",
   "execution_count": 52,
   "metadata": {},
   "outputs": [],
   "source": [
    "left_moment = cross(r_e1,n_o1).simplify()"
   ]
  },
  {
   "cell_type": "code",
   "execution_count": 53,
   "metadata": {},
   "outputs": [
    {
     "name": "stdout",
     "output_type": "stream",
     "text": [
      "(-e_w*cos(alpha) - r_m*sin(alpha) + r_z*cos(alpha - gamma) - rho_k*sin(alpha - gamma))*sin(psi)*N.x + (e_w*cos(alpha) + r_m*sin(alpha) - r_z*cos(alpha - gamma) + rho_k*sin(alpha - gamma))*cos(psi)*N.y\n"
     ]
    }
   ],
   "source": [
    "print(left_moment)"
   ]
  },
  {
   "cell_type": "code",
   "execution_count": 54,
   "metadata": {
    "collapsed": true
   },
   "outputs": [],
   "source": [
    "right_moment = cross(r_e2, n_o2).simplify()"
   ]
  },
  {
   "cell_type": "code",
   "execution_count": 55,
   "metadata": {},
   "outputs": [
    {
     "name": "stdout",
     "output_type": "stream",
     "text": [
      "(e_w*cos(alpha) + r_m*sin(alpha) - r_z*cos(alpha - gamma) + rho_k*sin(alpha - gamma))*sin(psi)*N.x + (-e_w*cos(alpha) - r_m*sin(alpha) + r_z*cos(alpha - gamma) - rho_k*sin(alpha - gamma))*cos(psi)*N.y\n"
     ]
    }
   ],
   "source": [
    "print(right_moment)"
   ]
  },
  {
   "cell_type": "markdown",
   "metadata": {},
   "source": [
    "内滚道平衡"
   ]
  },
  {
   "cell_type": "code",
   "execution_count": 56,
   "metadata": {},
   "outputs": [
    {
     "data": {
      "image/png": "[encoded data removed]",
      "text/latex": [
       "$$\\left(e_{w} \\operatorname{cos}\\left(\\beta\\right) + r_{m} \\operatorname{sin}\\left(\\beta\\right) - r_{z} \\operatorname{cos}\\left(\\beta - \\gamma\\right) - \\rho_{k} \\operatorname{sin}\\left(\\beta - \\gamma\\right)\\right) \\operatorname{sin}\\left(\\psi\\right)\\mathbf{\\hat{n}_x} + \\left(- e_{w} \\operatorname{cos}\\left(\\beta\\right) - r_{m} \\operatorname{sin}\\left(\\beta\\right) + r_{z} \\operatorname{cos}\\left(\\beta - \\gamma\\right) + \\rho_{k} \\operatorname{sin}\\left(\\beta - \\gamma\\right)\\right) \\operatorname{cos}\\left(\\psi\\right)\\mathbf{\\hat{n}_y}$$"
      ],
      "text/plain": [
       "(e_w⋅cos(β) + rₘ⋅sin(β) - r_z⋅cos(β - γ) - ρₖ⋅sin(β - γ))⋅sin(ψ) n_x + (-e_w⋅cos(β) - rₘ⋅sin(β) + r_z⋅cos(β - γ) + ρₖ⋅sin(β - γ))⋅cos(ψ) n_y"
      ]
     },
     "execution_count": 56,
     "metadata": {},
     "output_type": "execute_result"
    }
   ],
   "source": [
    "left_moment = cross(r_i10, n_i1).simplify()\n",
    "left_moment"
   ]
  },
  {
   "cell_type": "code",
   "execution_count": 57,
   "metadata": {},
   "outputs": [
    {
     "name": "stdout",
     "output_type": "stream",
     "text": [
      "(e_w*cos(beta) + r_m*sin(beta) - r_z*cos(beta - gamma) - rho_k*sin(beta - gamma))*sin(psi)*N.x + (-e_w*cos(beta) - r_m*sin(beta) + r_z*cos(beta - gamma) + rho_k*sin(beta - gamma))*cos(psi)*N.y\n"
     ]
    }
   ],
   "source": [
    "print(left_moment)"
   ]
  },
  {
   "cell_type": "code",
   "execution_count": 60,
   "metadata": {},
   "outputs": [
    {
     "data": {
      "image/png": "[encoded data removed]",
      "text/latex": [
       "$$\\left(e_{w} \\operatorname{cos}\\left(\\beta\\right) + r_{m} \\operatorname{sin}\\left(\\beta\\right) - r_{z} \\operatorname{cos}\\left(\\beta - \\gamma\\right) - \\rho_{k} \\operatorname{sin}\\left(\\beta - \\gamma\\right)\\right) \\operatorname{sin}\\left(\\psi\\right)\\mathbf{\\hat{n}_x} + \\left(- e_{w} \\operatorname{cos}\\left(\\beta\\right) - r_{m} \\operatorname{sin}\\left(\\beta\\right) + r_{z} \\operatorname{cos}\\left(\\beta - \\gamma\\right) + \\rho_{k} \\operatorname{sin}\\left(\\beta - \\gamma\\right)\\right) \\operatorname{cos}\\left(\\psi\\right)\\mathbf{\\hat{n}_y}$$"
      ],
      "text/plain": [
       "(e_w⋅cos(β) + rₘ⋅sin(β) - r_z⋅cos(β - γ) - ρₖ⋅sin(β - γ))⋅sin(ψ) n_x + (-e_w⋅cos(β) - rₘ⋅sin(β) + r_z⋅cos(β - γ) + ρₖ⋅sin(β - γ))⋅cos(ψ) n_y"
      ]
     },
     "execution_count": 60,
     "metadata": {},
     "output_type": "execute_result"
    }
   ],
   "source": [
    "left_moment = cross(r_i10, n_i1).simplify()\n",
    "left_moment"
   ]
  },
  {
   "cell_type": "code",
   "execution_count": 59,
   "metadata": {},
   "outputs": [
    {
     "data": {
      "image/png": "[encoded data removed]",
      "text/latex": [
       "$$\\left(- e_{w} \\operatorname{cos}\\left(\\beta\\right) - r_{m} \\operatorname{sin}\\left(\\beta\\right) + r_{z} \\operatorname{cos}\\left(\\beta - \\gamma\\right) + \\rho_{k} \\operatorname{sin}\\left(\\beta - \\gamma\\right)\\right) \\operatorname{sin}\\left(\\psi\\right)\\mathbf{\\hat{n}_x} + \\left(e_{w} \\operatorname{cos}\\left(\\beta\\right) + r_{m} \\operatorname{sin}\\left(\\beta\\right) - r_{z} \\operatorname{cos}\\left(\\beta - \\gamma\\right) - \\rho_{k} \\operatorname{sin}\\left(\\beta - \\gamma\\right)\\right) \\operatorname{cos}\\left(\\psi\\right)\\mathbf{\\hat{n}_y}$$"
      ],
      "text/plain": [
       "(-e_w⋅cos(β) - rₘ⋅sin(β) + r_z⋅cos(β - γ) + ρₖ⋅sin(β - γ))⋅sin(ψ) n_x + (e_w⋅cos(β) + rₘ⋅sin(β) - r_z⋅cos(β - γ) - ρₖ⋅sin(β - γ))⋅cos(ψ) n_y"
      ]
     },
     "execution_count": 59,
     "metadata": {},
     "output_type": "execute_result"
    }
   ],
   "source": [
    "right_moment = cross(r_i20, n_i2).simplify()\n",
    "right_moment"
   ]
  },
  {
   "cell_type": "code",
   "execution_count": 61,
   "metadata": {},
   "outputs": [
    {
     "name": "stdout",
     "output_type": "stream",
     "text": [
      "(-e_w*cos(beta) - r_m*sin(beta) + r_z*cos(beta - gamma) + rho_k*sin(beta - gamma))*sin(psi)*N.x + (e_w*cos(beta) + r_m*sin(beta) - r_z*cos(beta - gamma) - rho_k*sin(beta - gamma))*cos(psi)*N.y\n"
     ]
    }
   ],
   "source": [
    "print(right_moment)"
   ]
  },
  {
   "cell_type": "code",
   "execution_count": 62,
   "metadata": {},
   "outputs": [
    {
     "data": {
      "image/png": "[encoded data removed]",
      "text/latex": [
       "$$\\left(- R_{s} \\operatorname{sin}\\left(\\gamma - \\theta\\right) \\operatorname{cos}\\left(\\lambda_{f}\\right) - e_{w} \\operatorname{sin}\\left(\\theta\\right) + r_{m} \\operatorname{cos}\\left(\\theta\\right)\\right) \\operatorname{sin}\\left(\\psi\\right)\\mathbf{\\hat{n}_x} + \\left(R_{s} \\operatorname{sin}\\left(\\gamma - \\theta\\right) \\operatorname{cos}\\left(\\lambda_{f}\\right) + e_{w} \\operatorname{sin}\\left(\\theta\\right) - r_{m} \\operatorname{cos}\\left(\\theta\\right)\\right) \\operatorname{cos}\\left(\\psi\\right)\\mathbf{\\hat{n}_y}$$"
      ],
      "text/plain": [
       "(-Rₛ⋅sin(γ - θ)⋅cos(λ_f) - e_w⋅sin(θ) + rₘ⋅cos(θ))⋅sin(ψ) n_x + (Rₛ⋅sin(γ - θ)⋅cos(λ_f) + e_w⋅sin(θ) - rₘ⋅cos(θ))⋅cos(ψ) n_y"
      ]
     },
     "execution_count": 62,
     "metadata": {},
     "output_type": "execute_result"
    }
   ],
   "source": [
    "left_Flange = cross(r_f10, n_f1).simplify()\n",
    "left_Flange"
   ]
  },
  {
   "cell_type": "code",
   "execution_count": 63,
   "metadata": {},
   "outputs": [
    {
     "name": "stdout",
     "output_type": "stream",
     "text": [
      "(-R_s*sin(gamma - theta)*cos(lambda_f) - e_w*sin(theta) + r_m*cos(theta))*sin(psi)*N.x + (R_s*sin(gamma - theta)*cos(lambda_f) + e_w*sin(theta) - r_m*cos(theta))*cos(psi)*N.y\n"
     ]
    }
   ],
   "source": [
    "print(left_Flange)"
   ]
  },
  {
   "cell_type": "code",
   "execution_count": 64,
   "metadata": {},
   "outputs": [
    {
     "data": {
      "image/png": "[encoded data removed]",
      "text/latex": [
       "$$\\left(R_{s} \\operatorname{sin}\\left(\\gamma - \\theta\\right) \\operatorname{cos}\\left(\\lambda_{f}\\right) + e_{w} \\operatorname{sin}\\left(\\theta\\right) - r_{m} \\operatorname{cos}\\left(\\theta\\right)\\right) \\operatorname{sin}\\left(\\psi\\right)\\mathbf{\\hat{n}_x} + \\left(- R_{s} \\operatorname{sin}\\left(\\gamma - \\theta\\right) \\operatorname{cos}\\left(\\lambda_{f}\\right) - e_{w} \\operatorname{sin}\\left(\\theta\\right) + r_{m} \\operatorname{cos}\\left(\\theta\\right)\\right) \\operatorname{cos}\\left(\\psi\\right)\\mathbf{\\hat{n}_y}$$"
      ],
      "text/plain": [
       "(Rₛ⋅sin(γ - θ)⋅cos(λ_f) + e_w⋅sin(θ) - rₘ⋅cos(θ))⋅sin(ψ) n_x + (-Rₛ⋅sin(γ - θ)⋅cos(λ_f) - e_w⋅sin(θ) + rₘ⋅cos(θ))⋅cos(ψ) n_y"
      ]
     },
     "execution_count": 64,
     "metadata": {},
     "output_type": "execute_result"
    }
   ],
   "source": [
    "right_Flange = cross(r_f20, n_f2).simplify()\n",
    "right_Flange"
   ]
  },
  {
   "cell_type": "code",
   "execution_count": 65,
   "metadata": {},
   "outputs": [
    {
     "name": "stdout",
     "output_type": "stream",
     "text": [
      "(R_s*sin(gamma - theta)*cos(lambda_f) + e_w*sin(theta) - r_m*cos(theta))*sin(psi)*N.x + (-R_s*sin(gamma - theta)*cos(lambda_f) - e_w*sin(theta) + r_m*cos(theta))*cos(psi)*N.y\n"
     ]
    }
   ],
   "source": [
    "print(right_Flange)"
   ]
  }
 ],
 "metadata": {
  "anaconda-cloud": {},
  "kernelspec": {
   "display_name": "Python 3",
   "language": "python",
   "name": "python3"
  },
  "language_info": {
   "codemirror_mode": {
    "name": "ipython",
    "version": 3
   },
   "file_extension": ".py",
   "mimetype": "text/x-python",
   "name": "python",
   "nbconvert_exporter": "python",
   "pygments_lexer": "ipython3",
   "version": "3.6.1"
  }
 },
 "nbformat": 4,
 "nbformat_minor": 1
}
