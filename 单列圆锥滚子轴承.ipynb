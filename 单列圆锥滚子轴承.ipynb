{
 "cells": [
  {
   "cell_type": "code",
   "execution_count": 1,
   "metadata": {
    "collapsed": true
   },
   "outputs": [],
   "source": [
    "from sympy import *\n",
    "init_printing()\n",
    "from sympy.physics.mechanics import *"
   ]
  },
  {
   "cell_type": "code",
   "execution_count": 2,
   "metadata": {
    "collapsed": true
   },
   "outputs": [],
   "source": [
    "# 惯性坐标系\n",
    "N = ReferenceFrame('N')"
   ]
  },
  {
   "cell_type": "code",
   "execution_count": 3,
   "metadata": {
    "collapsed": false
   },
   "outputs": [
    {
     "data": {
      "image/png": "[encoded data removed]",
      "text/latex": [
       "$$\\left ( u_{x}, \\quad u_{z}, \\quad \\phi_{y}\\right )$$"
      ],
      "text/plain": [
       "(uₓ, u_z, φ_y)"
      ]
     },
     "execution_count": 3,
     "metadata": {},
     "output_type": "execute_result"
    }
   ],
   "source": [
    "# 内圈位移\n",
    "delta_x, delta_y, delta_z, gamma_x, gamma_y = symbols('delta_x, delta_y, delta_z, gamma_x, gamma_y ')\n",
    "delta_x, delta_y, delta_z, gamma_x, gamma_y \n",
    "# 滚子位移\n",
    "u_x, u_z, phi_y = symbols('u_x, u_z, phi_y ')\n",
    "u_x, u_z, phi_y "
   ]
  },
  {
   "cell_type": "code",
   "execution_count": 4,
   "metadata": {
    "collapsed": true
   },
   "outputs": [],
   "source": [
    "# 内圈角位移后的坐标系\n",
    "I = N.orientnew('I', 'Body', [gamma_x, gamma_y, 0], '123')\n",
    "I1 = N.orientnew('I1', 'Body', [gamma_y, gamma_x, 0], '213')"
   ]
  },
  {
   "cell_type": "code",
   "execution_count": 5,
   "metadata": {
    "collapsed": false
   },
   "outputs": [
    {
     "data": {
      "image/png": "[encoded data removed]",
      "text/latex": [
       "$$\\left[\\begin{matrix}1 & 0 & - \\gamma_{y}\\\\0 & 1 & \\gamma_{x}\\\\\\gamma_{y} & - \\gamma_{x} & 1\\end{matrix}\\right]$$"
      ],
      "text/plain": [
       "⎡ 1    0   -γ_y⎤\n",
       "⎢              ⎥\n",
       "⎢ 0    1    γₓ ⎥\n",
       "⎢              ⎥\n",
       "⎣γ_y  -γₓ   1  ⎦"
      ]
     },
     "execution_count": 5,
     "metadata": {},
     "output_type": "execute_result"
    }
   ],
   "source": [
    "I1.dcm(N).subs({cos(gamma_y):1,cos(gamma_x):1,sin(gamma_x):gamma_x,sin(gamma_y):gamma_y}).subs({gamma_x*gamma_y:0})"
   ]
  },
  {
   "cell_type": "code",
   "execution_count": 6,
   "metadata": {
    "collapsed": false
   },
   "outputs": [
    {
     "data": {
      "image/png": "[encoded data removed]",
      "text/latex": [
       "$$\\left[\\begin{matrix}1 & 0 & - \\gamma_{y}\\\\0 & 1 & \\gamma_{x}\\\\\\gamma_{y} & - \\gamma_{x} & 1\\end{matrix}\\right]$$"
      ],
      "text/plain": [
       "⎡ 1    0   -γ_y⎤\n",
       "⎢              ⎥\n",
       "⎢ 0    1    γₓ ⎥\n",
       "⎢              ⎥\n",
       "⎣γ_y  -γₓ   1  ⎦"
      ]
     },
     "execution_count": 6,
     "metadata": {},
     "output_type": "execute_result"
    }
   ],
   "source": [
    "# 内圈角位移比较小，可以简化为如下\n",
    "I.dcm(N).subs({cos(gamma_y):1,cos(gamma_x):1,sin(gamma_x):gamma_x,sin(gamma_y):gamma_y}).subs({gamma_x*gamma_y:0})"
   ]
  },
  {
   "cell_type": "code",
   "execution_count": 7,
   "metadata": {
    "collapsed": false
   },
   "outputs": [
    {
     "data": {
      "image/png": "[encoded data removed]",
      "text/latex": [
       "$$\\delta_{x}\\mathbf{\\hat{n}_x} + \\delta_{y}\\mathbf{\\hat{n}_y} + \\delta_{z}\\mathbf{\\hat{n}_z}$$"
      ],
      "text/plain": [
       "δₓ n_x + δ_y n_y + δ_z n_z"
      ]
     },
     "execution_count": 7,
     "metadata": {},
     "output_type": "execute_result"
    }
   ],
   "source": [
    "# 内圈受力后原点的位移\n",
    "Inner_O = delta_x * N.x + delta_y * N.y + delta_z * N.z\n",
    "Inner_O"
   ]
  },
  {
   "cell_type": "code",
   "execution_count": 8,
   "metadata": {
    "collapsed": false
   },
   "outputs": [
    {
     "data": {
      "image/png": "[encoded data removed]",
      "text/latex": [
       "$$\\left ( D_{w}, \\quad l_{w}, \\quad R_{s}, \\quad r_{m}, \\quad \\alpha, \\quad \\beta, \\quad \\gamma, \\quad \\theta, \\quad \\epsilon, \\quad \\rho_{k}, \\quad Z, \\quad rz, \\quad e, \\quad \\psi\\right )$$"
      ],
      "text/plain": [
       "(D_w, l_w, Rₛ, rₘ, α, β, γ, θ, ε, ρₖ, Z, rz, e, ψ)"
      ]
     },
     "execution_count": 8,
     "metadata": {},
     "output_type": "execute_result"
    }
   ],
   "source": [
    "Dw,lw,Rs,rm,alpha,beta,gamma,theta,epsilon,rho_k,Z,rz,e,psi = symbols('D_w,l_w,R_s,r_m,alpha,beta,gamma,theta,epsilon,rho_k,Z,rz,e,psi')\n",
    "Dw,lw,Rs,rm,alpha,beta,gamma,theta,epsilon,rho_k,Z,rz,e,psi"
   ]
  },
  {
   "cell_type": "code",
   "execution_count": 9,
   "metadata": {
    "collapsed": false
   },
   "outputs": [],
   "source": [
    "#gamma = (alpha + beta)/2\n",
    "#epsilon = (alpha - beta)/2\n",
    "#rm = Dw * sin(gamma)/(2 * tan(epsilon))\n",
    "#rho_k = (rm/sin(gamma) - Z) * tan(epsilon)\n",
    "#rho_k.simplify()"
   ]
  },
  {
   "cell_type": "code",
   "execution_count": 10,
   "metadata": {
    "collapsed": false
   },
   "outputs": [
    {
     "data": {
      "image/png": "[encoded data removed]",
      "text/latex": [
       "$$\\left(r_{m} + \\rho_{k} \\operatorname{cos}\\left(\\gamma\\right) - rz \\operatorname{sin}\\left(\\gamma\\right)\\right) \\operatorname{cos}\\left(\\psi\\right)\\mathbf{\\hat{n}_x} + \\left(r_{m} + \\rho_{k} \\operatorname{cos}\\left(\\gamma\\right) - rz \\operatorname{sin}\\left(\\gamma\\right)\\right) \\operatorname{sin}\\left(\\psi\\right)\\mathbf{\\hat{n}_y} + (e + \\rho_{k} \\operatorname{sin}\\left(\\gamma\\right) + rz \\operatorname{cos}\\left(\\gamma\\right))\\mathbf{\\hat{n}_z}$$"
      ],
      "text/plain": [
       "(rₘ + ρₖ⋅cos(γ) - rz⋅sin(γ))⋅cos(ψ) n_x + (rₘ + ρₖ⋅cos(γ) - rz⋅sin(γ))⋅sin(ψ) n_y + (e + ρₖ⋅sin(γ) + rz⋅cos(γ)) n_z"
      ]
     },
     "execution_count": 10,
     "metadata": {},
     "output_type": "execute_result"
    }
   ],
   "source": [
    "# 外圈滚道 在惯性坐标系下的矢量\n",
    "r_e = (rm - rz * sin(gamma) + rho_k * cos(gamma)) * cos(psi) * N.x + \\\n",
    "      (rm - rz * sin(gamma) + rho_k * cos(gamma)) * sin(psi) * N.y + \\\n",
    "      (e + rz * cos(gamma) + rho_k * sin(gamma)) * N.z\n",
    "r_e        "
   ]
  },
  {
   "cell_type": "code",
   "execution_count": 11,
   "metadata": {
    "collapsed": false
   },
   "outputs": [
    {
     "data": {
      "image/png": "[encoded data removed]",
      "text/latex": [
       "$$\\left(r_{m} - \\rho_{k} \\operatorname{cos}\\left(\\gamma\\right) - rz \\operatorname{sin}\\left(\\gamma\\right)\\right) \\operatorname{cos}\\left(\\psi\\right)\\mathbf{\\hat{n}_x} + \\left(r_{m} - \\rho_{k} \\operatorname{cos}\\left(\\gamma\\right) - rz \\operatorname{sin}\\left(\\gamma\\right)\\right) \\operatorname{sin}\\left(\\psi\\right)\\mathbf{\\hat{n}_y} + (e - \\rho_{k} \\operatorname{sin}\\left(\\gamma\\right) + rz \\operatorname{cos}\\left(\\gamma\\right))\\mathbf{\\hat{n}_z}$$"
      ],
      "text/plain": [
       "(rₘ - ρₖ⋅cos(γ) - rz⋅sin(γ))⋅cos(ψ) n_x + (rₘ - ρₖ⋅cos(γ) - rz⋅sin(γ))⋅sin(ψ) n_y + (e - ρₖ⋅sin(γ) + rz⋅cos(γ)) n_z"
      ]
     },
     "execution_count": 11,
     "metadata": {},
     "output_type": "execute_result"
    }
   ],
   "source": [
    "# 内圈滚道 在惯性坐标系下的矢量\n",
    "r_i0 = (rm - rz * sin(gamma) - rho_k * cos(gamma)) * cos(psi) * N.x + \\\n",
    "      (rm - rz * sin(gamma) - rho_k * cos(gamma)) * sin(psi) * N.y + \\\n",
    "      (e + rz * cos(gamma) - rho_k * sin(gamma)) * N.z\n",
    "r_i0  "
   ]
  },
  {
   "cell_type": "code",
   "execution_count": 12,
   "metadata": {
    "collapsed": false
   },
   "outputs": [
    {
     "data": {
      "image/png": "[encoded data removed]",
      "text/latex": [
       "$$-  2 \\rho_{k} \\operatorname{cos}\\left(\\gamma\\right) \\operatorname{cos}\\left(\\psi\\right)\\mathbf{\\hat{n}_x} -  2 \\rho_{k} \\operatorname{sin}\\left(\\psi\\right) \\operatorname{cos}\\left(\\gamma\\right)\\mathbf{\\hat{n}_y} -  2 \\rho_{k} \\operatorname{sin}\\left(\\gamma\\right)\\mathbf{\\hat{n}_z}$$"
      ],
      "text/plain": [
       "- 2⋅ρₖ⋅cos(γ)⋅cos(ψ) n_x - 2⋅ρₖ⋅sin(ψ)⋅cos(γ) n_y - 2⋅ρₖ⋅sin(γ) n_z"
      ]
     },
     "execution_count": 12,
     "metadata": {},
     "output_type": "execute_result"
    }
   ],
   "source": [
    "(r_i0 -r_e ).simplify()"
   ]
  },
  {
   "cell_type": "code",
   "execution_count": 13,
   "metadata": {
    "collapsed": false
   },
   "outputs": [
    {
     "data": {
      "image/png": "[encoded data removed]",
      "text/latex": [
       "$$(\\delta_{x} + \\gamma_{y} \\left(e - \\rho_{k} \\operatorname{sin}\\left(\\gamma\\right) + rz \\operatorname{cos}\\left(\\gamma\\right)\\right) - \\left(- r_{m} + \\rho_{k} \\operatorname{cos}\\left(\\gamma\\right) + rz \\operatorname{sin}\\left(\\gamma\\right)\\right) \\operatorname{cos}\\left(\\psi\\right))\\mathbf{\\hat{n}_x} + (\\delta_{y} - \\gamma_{x} \\left(e - \\rho_{k} \\operatorname{sin}\\left(\\gamma\\right) + rz \\operatorname{cos}\\left(\\gamma\\right)\\right) - \\left(- r_{m} + \\rho_{k} \\operatorname{cos}\\left(\\gamma\\right) + rz \\operatorname{sin}\\left(\\gamma\\right)\\right) \\operatorname{sin}\\left(\\psi\\right))\\mathbf{\\hat{n}_y} + (\\delta_{z} + e - \\gamma_{x} \\left(- r_{m} + \\rho_{k} \\operatorname{cos}\\left(\\gamma\\right) + rz \\operatorname{sin}\\left(\\gamma\\right)\\right) \\operatorname{sin}\\left(\\psi\\right) + \\gamma_{y} \\left(- r_{m} + \\rho_{k} \\operatorname{cos}\\left(\\gamma\\right) + rz \\operatorname{sin}\\left(\\gamma\\right)\\right) \\operatorname{cos}\\left(\\psi\\right) - \\rho_{k} \\operatorname{sin}\\left(\\gamma\\right) + rz \\operatorname{cos}\\left(\\gamma\\right))\\mathbf{\\hat{n}_z}$$"
      ],
      "text/plain": [
       "(δₓ + γ_y⋅(e - ρₖ⋅sin(γ) + rz⋅cos(γ)) - (-rₘ + ρₖ⋅cos(γ) + rz⋅sin(γ))⋅cos(ψ)) n_x + (δ_y - γₓ⋅(e - ρₖ⋅sin(γ) + rz⋅cos(γ)) - (-rₘ + ρₖ⋅cos(γ) + rz⋅sin(γ))⋅sin(ψ)) n_y + (δ_z + e - γₓ⋅(-rₘ + ρₖ⋅cos(γ) + rz⋅sin(γ))⋅sin(ψ) + γ_y⋅(-rₘ + ρₖ⋅cos(γ) + rz⋅sin(γ))⋅cos(ψ) - ρₖ⋅sin(γ) + rz⋅cos(γ)) n_z"
      ]
     },
     "execution_count": 13,
     "metadata": {},
     "output_type": "execute_result"
    }
   ],
   "source": [
    "# 内圈滚道 变形后在惯性坐标系下的矢量\n",
    "r_i = (rm - rz * sin(gamma) - rho_k * cos(gamma)) * cos(psi) * I.x + \\\n",
    "      (rm - rz * sin(gamma) - rho_k * cos(gamma)) * sin(psi) * I.y + \\\n",
    "      (e + rz * cos(gamma) - rho_k * sin(gamma)) * I.z + \\\n",
    "      Inner_O\n",
    "r_i.express(N).subs({cos(gamma_y):1,cos(gamma_x):1,sin(gamma_x):gamma_x,sin(gamma_y):gamma_y}).subs({gamma_x*gamma_y:0}).simplify()  "
   ]
  },
  {
   "cell_type": "code",
   "execution_count": 14,
   "metadata": {
    "collapsed": true
   },
   "outputs": [],
   "source": [
    "lambda_f = symbols('lambda_f')\n",
    "# 档边接触点 变形后在惯性坐标系下的矢量\n",
    "r_f = (rm - Rs * cos(lambda_f) * sin(gamma) + Rs * sin(theta)) * cos(psi) * I.x + \\\n",
    "      (rm - Rs * cos(lambda_f) * sin(gamma) + Rs * sin(theta)) * sin(psi) * I.y + \\\n",
    "      (e  + Rs * cos(lambda_f) * cos(gamma) - Rs * cos(theta)) * I.z + \\\n",
    "      Inner_O"
   ]
  },
  {
   "cell_type": "code",
   "execution_count": 15,
   "metadata": {
    "collapsed": false
   },
   "outputs": [],
   "source": [
    "#r_f.express(N).subs({u_x:0,u_z:0,phi_y:0,delta_x:0, delta_y:0, delta_z:0, gamma_x:0, gamma_y:0}).simplify() - r_f0"
   ]
  },
  {
   "cell_type": "code",
   "execution_count": 16,
   "metadata": {
    "collapsed": false
   },
   "outputs": [],
   "source": [
    "#Inner_O.subs({u_x:0,u_z:0,phi_y:0,delta_x:0, delta_y:0, delta_z:0, gamma_x:0, gamma_y:0}).simplify()"
   ]
  },
  {
   "cell_type": "code",
   "execution_count": 17,
   "metadata": {
    "collapsed": true
   },
   "outputs": [],
   "source": [
    "r_f0 = (rm - Rs * cos(lambda_f) * sin(gamma) + Rs * sin(theta)) * cos(psi) * N.x + \\\n",
    "       (rm - Rs * cos(lambda_f) * sin(gamma) + Rs * sin(theta)) * sin(psi) * N.y + \\\n",
    "       (e  + Rs * cos(lambda_f) * cos(gamma) - Rs * cos(theta)) * N.z "
   ]
  },
  {
   "cell_type": "code",
   "execution_count": 18,
   "metadata": {
    "collapsed": false
   },
   "outputs": [
    {
     "data": {
      "image/png": "[encoded data removed]",
      "text/latex": [
       "$$r_{m} \\operatorname{cos}\\left(\\psi\\right)\\mathbf{\\hat{n}_x} + r_{m} \\operatorname{sin}\\left(\\psi\\right)\\mathbf{\\hat{n}_y} + e\\mathbf{\\hat{n}_z}$$"
      ],
      "text/plain": [
       "rₘ⋅cos(ψ) n_x + rₘ⋅sin(ψ) n_y + e n_z"
      ]
     },
     "execution_count": 18,
     "metadata": {},
     "output_type": "execute_result"
    }
   ],
   "source": [
    "# 滚子的原点\n",
    "Roller_O = rm * cos(psi) * N.x + rm * sin(psi) * N.y + e * N.z\n",
    "Roller_O"
   ]
  },
  {
   "cell_type": "code",
   "execution_count": 19,
   "metadata": {
    "collapsed": false
   },
   "outputs": [],
   "source": [
    "# 滚子的坐标系\n",
    "R = N.orientnew('R', 'Body', [psi, gamma, 0], '321')\n",
    "\n",
    "# 滚子角位移后的坐标系\n",
    "R1 = R.orientnew('R1', 'Axis', [phi_y, R.y])\n",
    "\n",
    "# 滚子原点的位移\n",
    "Roller_d = u_x * R.x + u_z * R.z"
   ]
  },
  {
   "cell_type": "code",
   "execution_count": 20,
   "metadata": {
    "collapsed": false
   },
   "outputs": [
    {
     "data": {
      "image/png": "[encoded data removed]",
      "text/latex": [
       "$$-  R_{s} \\operatorname{sin}\\left(\\gamma - \\theta\\right)\\mathbf{\\hat{r}_x} + R_{s} \\left(\\operatorname{cos}\\left(\\lambda_{f}\\right) - \\operatorname{cos}\\left(\\gamma - \\theta\\right)\\right)\\mathbf{\\hat{r}_z}$$"
      ],
      "text/plain": [
       "- Rₛ⋅sin(γ - θ) r_x + Rₛ⋅(cos(λ_f) - cos(γ - θ)) r_z"
      ]
     },
     "execution_count": 20,
     "metadata": {},
     "output_type": "execute_result"
    }
   ],
   "source": [
    "rho_e = rho_k * R.x + rz * R.z\n",
    "rho_i = -rho_k * R.x + rz * R.z\n",
    "rho_f = -Rs * sin(gamma-theta) * R.x + Rs * (cos(lambda_f) - cos(gamma-theta)) * R.z\n",
    "rho_f"
   ]
  },
  {
   "cell_type": "code",
   "execution_count": 21,
   "metadata": {
    "collapsed": false
   },
   "outputs": [
    {
     "data": {
      "image/png": "[encoded data removed]",
      "text/latex": [
       "$$0$$"
      ],
      "text/plain": [
       "0"
      ]
     },
     "execution_count": 21,
     "metadata": {},
     "output_type": "execute_result"
    }
   ],
   "source": [
    "(Roller_O + rho_e - r_e).express(N).simplify()#.subs({psi:pi/2,rz:0})"
   ]
  },
  {
   "cell_type": "code",
   "execution_count": 22,
   "metadata": {
    "collapsed": false
   },
   "outputs": [
    {
     "data": {
      "image/png": "[encoded data removed]",
      "text/latex": [
       "$$0$$"
      ],
      "text/plain": [
       "0"
      ]
     },
     "execution_count": 22,
     "metadata": {},
     "output_type": "execute_result"
    }
   ],
   "source": [
    "(Roller_O + rho_i - r_i0).express(N).simplify()#express(N).subs({psi:0,rz:0})"
   ]
  },
  {
   "cell_type": "code",
   "execution_count": 23,
   "metadata": {
    "collapsed": false
   },
   "outputs": [
    {
     "data": {
      "image/png": "[encoded data removed]",
      "text/latex": [
       "$$0$$"
      ],
      "text/plain": [
       "0"
      ]
     },
     "execution_count": 23,
     "metadata": {},
     "output_type": "execute_result"
    }
   ],
   "source": [
    "(Roller_O + rho_f - r_f0).express(N).simplify()#.subs({psi:0,rz:0,lambda_f:asin(Dw/2/Rs)})"
   ]
  },
  {
   "cell_type": "code",
   "execution_count": 24,
   "metadata": {
    "collapsed": false
   },
   "outputs": [],
   "source": [
    "#lambda_f = asin(Dw/2/Rs)\n",
    "#cos(lambda_f)"
   ]
  },
  {
   "cell_type": "code",
   "execution_count": 25,
   "metadata": {
    "collapsed": false
   },
   "outputs": [
    {
     "data": {
      "image/png": "[encoded data removed]",
      "text/latex": [
       "$$(r_{m} \\operatorname{cos}\\left(\\psi\\right) + \\rho_{k} \\left(\\operatorname{sin}\\left(\\gamma\\right) \\operatorname{sin}\\left(\\phi_{y}\\right) \\operatorname{cos}\\left(\\psi\\right) + \\operatorname{cos}\\left(\\gamma\\right) \\operatorname{cos}\\left(\\phi_{y}\\right) \\operatorname{cos}\\left(\\psi\\right)\\right) + rz \\left(- \\operatorname{sin}\\left(\\gamma\\right) \\operatorname{cos}\\left(\\phi_{y}\\right) \\operatorname{cos}\\left(\\psi\\right) + \\operatorname{sin}\\left(\\phi_{y}\\right) \\operatorname{cos}\\left(\\gamma\\right) \\operatorname{cos}\\left(\\psi\\right)\\right) + u_{x} \\operatorname{cos}\\left(\\gamma\\right) \\operatorname{cos}\\left(\\psi\\right) - u_{z} \\operatorname{sin}\\left(\\gamma\\right) \\operatorname{cos}\\left(\\psi\\right))\\mathbf{\\hat{n}_x} + (r_{m} \\operatorname{sin}\\left(\\psi\\right) + \\rho_{k} \\left(\\operatorname{sin}\\left(\\gamma\\right) \\operatorname{sin}\\left(\\phi_{y}\\right) \\operatorname{sin}\\left(\\psi\\right) + \\operatorname{sin}\\left(\\psi\\right) \\operatorname{cos}\\left(\\gamma\\right) \\operatorname{cos}\\left(\\phi_{y}\\right)\\right) + rz \\left(- \\operatorname{sin}\\left(\\gamma\\right) \\operatorname{sin}\\left(\\psi\\right) \\operatorname{cos}\\left(\\phi_{y}\\right) + \\operatorname{sin}\\left(\\phi_{y}\\right) \\operatorname{sin}\\left(\\psi\\right) \\operatorname{cos}\\left(\\gamma\\right)\\right) + u_{x} \\operatorname{sin}\\left(\\psi\\right) \\operatorname{cos}\\left(\\gamma\\right) - u_{z} \\operatorname{sin}\\left(\\gamma\\right) \\operatorname{sin}\\left(\\psi\\right))\\mathbf{\\hat{n}_y} + (e + \\rho_{k} \\left(\\operatorname{sin}\\left(\\gamma\\right) \\operatorname{cos}\\left(\\phi_{y}\\right) - \\operatorname{sin}\\left(\\phi_{y}\\right) \\operatorname{cos}\\left(\\gamma\\right)\\right) + rz \\left(\\operatorname{sin}\\left(\\gamma\\right) \\operatorname{sin}\\left(\\phi_{y}\\right) + \\operatorname{cos}\\left(\\gamma\\right) \\operatorname{cos}\\left(\\phi_{y}\\right)\\right) + u_{x} \\operatorname{sin}\\left(\\gamma\\right) + u_{z} \\operatorname{cos}\\left(\\gamma\\right))\\mathbf{\\hat{n}_z}$$"
      ],
      "text/plain": [
       "(rₘ⋅cos(ψ) + ρₖ⋅(sin(γ)⋅sin(φ_y)⋅cos(ψ) + cos(γ)⋅cos(φ_y)⋅cos(ψ)) + rz⋅(-sin(γ)⋅cos(φ_y)⋅cos(ψ) + sin(φ_y)⋅cos(γ)⋅cos(ψ)) + uₓ⋅cos(γ)⋅cos(ψ) - u_z⋅sin(γ)⋅cos(ψ)) n_x + (rₘ⋅sin(ψ) + ρₖ⋅(sin(γ)⋅sin(φ_y)⋅sin(ψ) + sin(ψ)⋅cos(γ)⋅cos(φ_y)) + rz⋅(-sin(γ)⋅sin(ψ)⋅cos(φ_y) + sin(φ_y)⋅sin(ψ)⋅cos(γ)) + uₓ⋅sin(ψ)⋅cos(γ) - u_z⋅sin(γ)⋅sin(ψ)) n_y + (e + ρₖ⋅(sin(γ)⋅cos(φ_y) - sin(φ_y)⋅cos(γ)) + rz⋅(sin(γ)⋅sin(φ_y) + cos(γ)⋅cos(φ_y)) + uₓ⋅sin(γ) + u_z⋅cos(γ)) n_z"
      ]
     },
     "execution_count": 25,
     "metadata": {},
     "output_type": "execute_result"
    }
   ],
   "source": [
    "# 滚子变形后的位置坐标\n",
    "rho_e_d = Roller_O + Roller_d + rho_k * R1.x + rz * R1.z\n",
    "rho_e_d.express(N)"
   ]
  },
  {
   "cell_type": "code",
   "execution_count": 26,
   "metadata": {
    "collapsed": false
   },
   "outputs": [
    {
     "data": {
      "image/png": "[encoded data removed]",
      "text/latex": [
       "$$(r_{m} \\operatorname{cos}\\left(\\psi\\right) - \\rho_{k} \\left(\\operatorname{sin}\\left(\\gamma\\right) \\operatorname{sin}\\left(\\phi_{y}\\right) \\operatorname{cos}\\left(\\psi\\right) + \\operatorname{cos}\\left(\\gamma\\right) \\operatorname{cos}\\left(\\phi_{y}\\right) \\operatorname{cos}\\left(\\psi\\right)\\right) + rz \\left(- \\operatorname{sin}\\left(\\gamma\\right) \\operatorname{cos}\\left(\\phi_{y}\\right) \\operatorname{cos}\\left(\\psi\\right) + \\operatorname{sin}\\left(\\phi_{y}\\right) \\operatorname{cos}\\left(\\gamma\\right) \\operatorname{cos}\\left(\\psi\\right)\\right) + u_{x} \\operatorname{cos}\\left(\\gamma\\right) \\operatorname{cos}\\left(\\psi\\right) - u_{z} \\operatorname{sin}\\left(\\gamma\\right) \\operatorname{cos}\\left(\\psi\\right))\\mathbf{\\hat{n}_x} + (r_{m} \\operatorname{sin}\\left(\\psi\\right) - \\rho_{k} \\left(\\operatorname{sin}\\left(\\gamma\\right) \\operatorname{sin}\\left(\\phi_{y}\\right) \\operatorname{sin}\\left(\\psi\\right) + \\operatorname{sin}\\left(\\psi\\right) \\operatorname{cos}\\left(\\gamma\\right) \\operatorname{cos}\\left(\\phi_{y}\\right)\\right) + rz \\left(- \\operatorname{sin}\\left(\\gamma\\right) \\operatorname{sin}\\left(\\psi\\right) \\operatorname{cos}\\left(\\phi_{y}\\right) + \\operatorname{sin}\\left(\\phi_{y}\\right) \\operatorname{sin}\\left(\\psi\\right) \\operatorname{cos}\\left(\\gamma\\right)\\right) + u_{x} \\operatorname{sin}\\left(\\psi\\right) \\operatorname{cos}\\left(\\gamma\\right) - u_{z} \\operatorname{sin}\\left(\\gamma\\right) \\operatorname{sin}\\left(\\psi\\right))\\mathbf{\\hat{n}_y} + (e - \\rho_{k} \\left(\\operatorname{sin}\\left(\\gamma\\right) \\operatorname{cos}\\left(\\phi_{y}\\right) - \\operatorname{sin}\\left(\\phi_{y}\\right) \\operatorname{cos}\\left(\\gamma\\right)\\right) + rz \\left(\\operatorname{sin}\\left(\\gamma\\right) \\operatorname{sin}\\left(\\phi_{y}\\right) + \\operatorname{cos}\\left(\\gamma\\right) \\operatorname{cos}\\left(\\phi_{y}\\right)\\right) + u_{x} \\operatorname{sin}\\left(\\gamma\\right) + u_{z} \\operatorname{cos}\\left(\\gamma\\right))\\mathbf{\\hat{n}_z}$$"
      ],
      "text/plain": [
       "(rₘ⋅cos(ψ) - ρₖ⋅(sin(γ)⋅sin(φ_y)⋅cos(ψ) + cos(γ)⋅cos(φ_y)⋅cos(ψ)) + rz⋅(-sin(γ)⋅cos(φ_y)⋅cos(ψ) + sin(φ_y)⋅cos(γ)⋅cos(ψ)) + uₓ⋅cos(γ)⋅cos(ψ) - u_z⋅sin(γ)⋅cos(ψ)) n_x + (rₘ⋅sin(ψ) - ρₖ⋅(sin(γ)⋅sin(φ_y)⋅sin(ψ) + sin(ψ)⋅cos(γ)⋅cos(φ_y)) + rz⋅(-sin(γ)⋅sin(ψ)⋅cos(φ_y) + sin(φ_y)⋅sin(ψ)⋅cos(γ)) + uₓ⋅sin(ψ)⋅cos(γ) - u_z⋅sin(γ)⋅sin(ψ)) n_y + (e - ρₖ⋅(sin(γ)⋅cos(φ_y) - sin(φ_y)⋅cos(γ)) + rz⋅(sin(γ)⋅sin(φ_y) + cos(γ)⋅cos(φ_y)) + uₓ⋅sin(γ) + u_z⋅cos(γ)) n_z"
      ]
     },
     "execution_count": 26,
     "metadata": {},
     "output_type": "execute_result"
    }
   ],
   "source": [
    "rho_i_d = Roller_O + Roller_d - rho_k * R1.x + rz * R1.z\n",
    "rho_i_d.express(N)"
   ]
  },
  {
   "cell_type": "code",
   "execution_count": 27,
   "metadata": {
    "collapsed": false
   },
   "outputs": [
    {
     "data": {
      "image/png": "[encoded data removed]",
      "text/latex": [
       "$$(- R_{s} \\left(\\operatorname{sin}\\left(\\gamma\\right) \\operatorname{sin}\\left(\\phi_{y}\\right) \\operatorname{cos}\\left(\\psi\\right) + \\operatorname{cos}\\left(\\gamma\\right) \\operatorname{cos}\\left(\\phi_{y}\\right) \\operatorname{cos}\\left(\\psi\\right)\\right) \\operatorname{sin}\\left(\\gamma - \\theta\\right) + R_{s} \\left(- \\operatorname{sin}\\left(\\gamma\\right) \\operatorname{cos}\\left(\\phi_{y}\\right) \\operatorname{cos}\\left(\\psi\\right) + \\operatorname{sin}\\left(\\phi_{y}\\right) \\operatorname{cos}\\left(\\gamma\\right) \\operatorname{cos}\\left(\\psi\\right)\\right) \\left(\\operatorname{cos}\\left(\\lambda_{f}\\right) - \\operatorname{cos}\\left(\\gamma - \\theta\\right)\\right) + r_{m} \\operatorname{cos}\\left(\\psi\\right) + u_{x} \\operatorname{cos}\\left(\\gamma\\right) \\operatorname{cos}\\left(\\psi\\right) - u_{z} \\operatorname{sin}\\left(\\gamma\\right) \\operatorname{cos}\\left(\\psi\\right))\\mathbf{\\hat{n}_x} + (- R_{s} \\left(\\operatorname{sin}\\left(\\gamma\\right) \\operatorname{sin}\\left(\\phi_{y}\\right) \\operatorname{sin}\\left(\\psi\\right) + \\operatorname{sin}\\left(\\psi\\right) \\operatorname{cos}\\left(\\gamma\\right) \\operatorname{cos}\\left(\\phi_{y}\\right)\\right) \\operatorname{sin}\\left(\\gamma - \\theta\\right) + R_{s} \\left(- \\operatorname{sin}\\left(\\gamma\\right) \\operatorname{sin}\\left(\\psi\\right) \\operatorname{cos}\\left(\\phi_{y}\\right) + \\operatorname{sin}\\left(\\phi_{y}\\right) \\operatorname{sin}\\left(\\psi\\right) \\operatorname{cos}\\left(\\gamma\\right)\\right) \\left(\\operatorname{cos}\\left(\\lambda_{f}\\right) - \\operatorname{cos}\\left(\\gamma - \\theta\\right)\\right) + r_{m} \\operatorname{sin}\\left(\\psi\\right) + u_{x} \\operatorname{sin}\\left(\\psi\\right) \\operatorname{cos}\\left(\\gamma\\right) - u_{z} \\operatorname{sin}\\left(\\gamma\\right) \\operatorname{sin}\\left(\\psi\\right))\\mathbf{\\hat{n}_y} + (R_{s} \\left(\\operatorname{sin}\\left(\\gamma\\right) \\operatorname{sin}\\left(\\phi_{y}\\right) + \\operatorname{cos}\\left(\\gamma\\right) \\operatorname{cos}\\left(\\phi_{y}\\right)\\right) \\left(\\operatorname{cos}\\left(\\lambda_{f}\\right) - \\operatorname{cos}\\left(\\gamma - \\theta\\right)\\right) - R_{s} \\left(\\operatorname{sin}\\left(\\gamma\\right) \\operatorname{cos}\\left(\\phi_{y}\\right) - \\operatorname{sin}\\left(\\phi_{y}\\right) \\operatorname{cos}\\left(\\gamma\\right)\\right) \\operatorname{sin}\\left(\\gamma - \\theta\\right) + e + u_{x} \\operatorname{sin}\\left(\\gamma\\right) + u_{z} \\operatorname{cos}\\left(\\gamma\\right))\\mathbf{\\hat{n}_z}$$"
      ],
      "text/plain": [
       "(-Rₛ⋅(sin(γ)⋅sin(φ_y)⋅cos(ψ) + cos(γ)⋅cos(φ_y)⋅cos(ψ))⋅sin(γ - θ) + Rₛ⋅(-sin(γ)⋅cos(φ_y)⋅cos(ψ) + sin(φ_y)⋅cos(γ)⋅cos(ψ))⋅(cos(λ_f) - cos(γ - θ)) + rₘ⋅cos(ψ) + uₓ⋅cos(γ)⋅cos(ψ) - u_z⋅sin(γ)⋅cos(ψ)) n_x + (-Rₛ⋅(sin(γ)⋅sin(φ_y)⋅sin(ψ) + sin(ψ)⋅cos(γ)⋅cos(φ_y))⋅sin(γ - θ) + Rₛ⋅(-sin(γ)⋅sin(ψ)⋅cos(φ_y) + sin(φ_y)⋅sin(ψ)⋅cos(γ))⋅(cos(λ_f) - cos(γ - θ)) + rₘ⋅sin(ψ) + uₓ⋅sin(ψ)⋅cos(γ) - u_z⋅sin(γ)⋅sin(ψ)) n_y + (Rₛ⋅(sin(γ)⋅sin(φ_y) + cos(γ)⋅cos(φ_y))⋅(cos(λ_f) - cos(γ - θ)) - Rₛ⋅(sin(γ)⋅cos(φ_y) - sin(φ_y)⋅cos(γ))⋅sin(γ - θ) + e + uₓ⋅sin(γ) + u_z⋅cos(γ)) n_z"
      ]
     },
     "execution_count": 27,
     "metadata": {},
     "output_type": "execute_result"
    }
   ],
   "source": [
    "rho_f_d = Roller_O + Roller_d - Rs * sin(gamma-theta) * R1.x + Rs * (cos(lambda_f) - cos(gamma-theta)) * R1.z\n",
    "\n",
    "rho_f_d.express(N)"
   ]
  },
  {
   "cell_type": "code",
   "execution_count": 28,
   "metadata": {
    "collapsed": false
   },
   "outputs": [
    {
     "data": {
      "image/png": "[encoded data removed]",
      "text/latex": [
       "$$0$$"
      ],
      "text/plain": [
       "0"
      ]
     },
     "execution_count": 28,
     "metadata": {},
     "output_type": "execute_result"
    }
   ],
   "source": [
    "(rho_f_d - rho_f - Roller_O).express(N).subs({u_x:0,u_z:0,phi_y:0}).simplify()"
   ]
  },
  {
   "cell_type": "code",
   "execution_count": 29,
   "metadata": {
    "collapsed": false
   },
   "outputs": [
    {
     "data": {
      "image/png": "[encoded data removed]",
      "text/latex": [
       "$$- \\rho_{k} \\cos{\\left (\\alpha - \\gamma \\right )} + \\rho_{k} \\cos{\\left (\\alpha - \\gamma + \\phi_{y} \\right )} - rz \\sin{\\left (\\alpha - \\gamma \\right )} + rz \\sin{\\left (\\alpha - \\gamma + \\phi_{y} \\right )} + u_{x} \\cos{\\left (\\alpha - \\gamma \\right )} + u_{z} \\sin{\\left (\\alpha - \\gamma \\right )}$$"
      ],
      "text/plain": [
       "-ρₖ⋅cos(α - γ) + ρₖ⋅cos(α - γ + φ_y) - rz⋅sin(α - γ) + rz⋅sin(α - γ + φ_y) + u\n",
       "ₓ⋅cos(α - γ) + u_z⋅sin(α - γ)"
      ]
     },
     "execution_count": 29,
     "metadata": {},
     "output_type": "execute_result"
    }
   ],
   "source": [
    "#外滚道单位法向矢量\n",
    "n_o = -cos(psi) * cos(alpha) * N.x  - sin(psi) * cos(alpha) * N.y - sin(alpha) * N.z\n",
    "\n",
    "delta_o = dot(r_e - rho_e_d, n_o).simplify()\n",
    "delta_o "
   ]
  },
  {
   "cell_type": "code",
   "execution_count": 30,
   "metadata": {
    "collapsed": false
   },
   "outputs": [
    {
     "data": {
      "image/png": "[encoded data removed]",
      "text/latex": [
       "$$0$$"
      ],
      "text/plain": [
       "0"
      ]
     },
     "execution_count": 30,
     "metadata": {},
     "output_type": "execute_result"
    }
   ],
   "source": [
    "dot(r_e - rho_e_d, n_o).subs({u_x:0,u_z:0,phi_y:0,delta_x:0, delta_y:0, delta_z:0, gamma_x:0, gamma_y:0}).simplify()"
   ]
  },
  {
   "cell_type": "code",
   "execution_count": 31,
   "metadata": {
    "collapsed": false
   },
   "outputs": [
    {
     "name": "stdout",
     "output_type": "stream",
     "text": [
      "-rho_k*cos(alpha - gamma) + rho_k*cos(alpha - gamma + phi_y) - rz*sin(alpha - gamma) + rz*sin(alpha - gamma + phi_y) + u_x*cos(alpha - gamma) + u_z*sin(alpha - gamma)\n"
     ]
    }
   ],
   "source": [
    "print(dot(r_e - rho_e_d, n_o).simplify())"
   ]
  },
  {
   "cell_type": "code",
   "execution_count": 32,
   "metadata": {
    "collapsed": false
   },
   "outputs": [],
   "source": [
    "#内滚道单位法向矢量\n",
    "n_i = cos(psi) * cos(beta) * N.x + sin(psi) * cos(beta) * N.y + sin(beta) * N.z\n",
    "\n",
    "delta_i = dot(r_i - rho_i_d, n_i).simplify()"
   ]
  },
  {
   "cell_type": "code",
   "execution_count": 33,
   "metadata": {
    "collapsed": false
   },
   "outputs": [
    {
     "data": {
      "image/png": "[encoded data removed]",
      "text/latex": [
       "$$0$$"
      ],
      "text/plain": [
       "0"
      ]
     },
     "execution_count": 33,
     "metadata": {},
     "output_type": "execute_result"
    }
   ],
   "source": [
    "delta_i.subs({u_x:0,u_z:0,phi_y:0,delta_x:0, delta_y:0, delta_z:0, gamma_x:0, gamma_y:0}).simplify()"
   ]
  },
  {
   "cell_type": "code",
   "execution_count": 34,
   "metadata": {
    "collapsed": false
   },
   "outputs": [
    {
     "data": {
      "image/png": "[encoded data removed]",
      "text/latex": [
       "$$\\delta_{x} \\cos{\\left (\\beta \\right )} \\cos{\\left (\\psi \\right )} + \\delta_{y} \\sin{\\left (\\psi \\right )} \\cos{\\left (\\beta \\right )} + \\delta_{z} \\sin{\\left (\\beta \\right )} - e \\gamma_{x} \\sin{\\left (\\psi \\right )} \\cos{\\left (\\beta \\right )} + e \\gamma_{y} \\cos{\\left (\\beta \\right )} \\cos{\\left (\\psi \\right )} + \\gamma_{x} r_{m} \\sin{\\left (\\beta \\right )} \\sin{\\left (\\psi \\right )} - \\gamma_{x} \\rho_{k} \\sin{\\left (\\psi \\right )} \\sin{\\left (\\beta - \\gamma \\right )} - \\gamma_{x} rz \\sin{\\left (\\psi \\right )} \\cos{\\left (\\beta - \\gamma \\right )} - \\gamma_{y} r_{m} \\sin{\\left (\\beta \\right )} \\cos{\\left (\\psi \\right )} + \\gamma_{y} \\rho_{k} \\sin{\\left (\\beta - \\gamma \\right )} \\cos{\\left (\\psi \\right )} + \\gamma_{y} rz \\cos{\\left (\\psi \\right )} \\cos{\\left (\\beta - \\gamma \\right )} - \\rho_{k} \\cos{\\left (\\beta - \\gamma \\right )} + \\rho_{k} \\cos{\\left (\\beta - \\gamma + \\phi_{y} \\right )} + rz \\sin{\\left (\\beta - \\gamma \\right )} - rz \\sin{\\left (\\beta - \\gamma + \\phi_{y} \\right )} - u_{x} \\cos{\\left (\\beta - \\gamma \\right )} - u_{z} \\sin{\\left (\\beta - \\gamma \\right )}$$"
      ],
      "text/plain": [
       "δₓ⋅cos(β)⋅cos(ψ) + δ_y⋅sin(ψ)⋅cos(β) + δ_z⋅sin(β) - e⋅γₓ⋅sin(ψ)⋅cos(β) + e⋅γ_y\n",
       "⋅cos(β)⋅cos(ψ) + γₓ⋅rₘ⋅sin(β)⋅sin(ψ) - γₓ⋅ρₖ⋅sin(ψ)⋅sin(β - γ) - γₓ⋅rz⋅sin(ψ)⋅\n",
       "cos(β - γ) - γ_y⋅rₘ⋅sin(β)⋅cos(ψ) + γ_y⋅ρₖ⋅sin(β - γ)⋅cos(ψ) + γ_y⋅rz⋅cos(ψ)⋅c\n",
       "os(β - γ) - ρₖ⋅cos(β - γ) + ρₖ⋅cos(β - γ + φ_y) + rz⋅sin(β - γ) - rz⋅sin(β - γ\n",
       " + φ_y) - uₓ⋅cos(β - γ) - u_z⋅sin(β - γ)"
      ]
     },
     "execution_count": 34,
     "metadata": {},
     "output_type": "execute_result"
    }
   ],
   "source": [
    "delta_i.subs({cos(gamma_y):1,cos(gamma_x):1,sin(gamma_x):gamma_x,sin(gamma_y):gamma_y}).subs({gamma_x*gamma_y:0}).simplify() "
   ]
  },
  {
   "cell_type": "code",
   "execution_count": 35,
   "metadata": {
    "collapsed": false
   },
   "outputs": [
    {
     "name": "stdout",
     "output_type": "stream",
     "text": [
      "delta_x*cos(beta)*cos(psi) + delta_y*sin(psi)*cos(beta) + delta_z*sin(beta) - e*gamma_x*sin(psi)*cos(beta) + e*gamma_y*cos(beta)*cos(psi) + gamma_x*r_m*sin(beta)*sin(psi) - gamma_x*rho_k*sin(psi)*sin(beta - gamma) - gamma_x*rz*sin(psi)*cos(beta - gamma) - gamma_y*r_m*sin(beta)*cos(psi) + gamma_y*rho_k*sin(beta - gamma)*cos(psi) + gamma_y*rz*cos(psi)*cos(beta - gamma) - rho_k*cos(beta - gamma) + rho_k*cos(beta - gamma + phi_y) + rz*sin(beta - gamma) - rz*sin(beta - gamma + phi_y) - u_x*cos(beta - gamma) - u_z*sin(beta - gamma)\n"
     ]
    }
   ],
   "source": [
    "print(delta_i.subs({cos(gamma_y):1,cos(gamma_x):1,sin(gamma_x):gamma_x,sin(gamma_y):gamma_y}).subs({gamma_x*gamma_y:0}).simplify() )"
   ]
  },
  {
   "cell_type": "code",
   "execution_count": 36,
   "metadata": {
    "collapsed": true
   },
   "outputs": [],
   "source": [
    "#档边单位法向矢量\n",
    "n_f = -cos(psi) * sin(theta) * N.x  - sin(psi) * sin(theta) * N.y + cos(theta) * N.z\n",
    "\n",
    "delta_f = dot(r_f - rho_f_d, n_f).simplify()"
   ]
  },
  {
   "cell_type": "code",
   "execution_count": 37,
   "metadata": {
    "collapsed": false
   },
   "outputs": [],
   "source": [
    "deltaf1 = delta_f.subs({cos(gamma_y):1,cos(gamma_x):1,sin(gamma_x):gamma_x,sin(gamma_y):gamma_y}).subs({gamma_x*gamma_y:0}).simplify() "
   ]
  },
  {
   "cell_type": "code",
   "execution_count": 38,
   "metadata": {
    "collapsed": false
   },
   "outputs": [
    {
     "data": {
      "image/png": "[encoded data removed]",
      "text/latex": [
       "$$- R_{s} \\gamma_{x} \\sin{\\left (\\psi \\right )} \\sin{\\left (\\gamma - \\theta \\right )} \\cos{\\left (\\lambda_{f} \\right )} + R_{s} \\gamma_{y} \\sin{\\left (\\gamma - \\theta \\right )} \\cos{\\left (\\lambda_{f} \\right )} \\cos{\\left (\\psi \\right )} + R_{s} \\cos{\\left (\\lambda_{f} \\right )} \\cos{\\left (\\gamma - \\theta \\right )} - R_{s} \\cos{\\left (\\lambda_{f} \\right )} \\cos{\\left (- \\gamma + \\phi_{y} + \\theta \\right )} + R_{s} \\cos{\\left (\\phi_{y} \\right )} - R_{s} - \\delta_{x} \\sin{\\left (\\theta \\right )} \\cos{\\left (\\psi \\right )} - \\delta_{y} \\sin{\\left (\\psi \\right )} \\sin{\\left (\\theta \\right )} + \\delta_{z} \\cos{\\left (\\theta \\right )} + e \\gamma_{x} \\sin{\\left (\\psi \\right )} \\sin{\\left (\\theta \\right )} - e \\gamma_{y} \\sin{\\left (\\theta \\right )} \\cos{\\left (\\psi \\right )} + \\gamma_{x} r_{m} \\sin{\\left (\\psi \\right )} \\cos{\\left (\\theta \\right )} - \\gamma_{y} r_{m} \\cos{\\left (\\psi \\right )} \\cos{\\left (\\theta \\right )} - u_{x} \\sin{\\left (\\gamma - \\theta \\right )} - u_{z} \\cos{\\left (\\gamma - \\theta \\right )}$$"
      ],
      "text/plain": [
       "-Rₛ⋅γₓ⋅sin(ψ)⋅sin(γ - θ)⋅cos(λ_f) + Rₛ⋅γ_y⋅sin(γ - θ)⋅cos(λ_f)⋅cos(ψ) + Rₛ⋅cos\n",
       "(λ_f)⋅cos(γ - θ) - Rₛ⋅cos(λ_f)⋅cos(-γ + φ_y + θ) + Rₛ⋅cos(φ_y) - Rₛ - δₓ⋅sin(θ\n",
       ")⋅cos(ψ) - δ_y⋅sin(ψ)⋅sin(θ) + δ_z⋅cos(θ) + e⋅γₓ⋅sin(ψ)⋅sin(θ) - e⋅γ_y⋅sin(θ)⋅\n",
       "cos(ψ) + γₓ⋅rₘ⋅sin(ψ)⋅cos(θ) - γ_y⋅rₘ⋅cos(ψ)⋅cos(θ) - uₓ⋅sin(γ - θ) - u_z⋅cos(\n",
       "γ - θ)"
      ]
     },
     "execution_count": 38,
     "metadata": {},
     "output_type": "execute_result"
    }
   ],
   "source": [
    "deltaf1"
   ]
  },
  {
   "cell_type": "code",
   "execution_count": 39,
   "metadata": {
    "collapsed": false
   },
   "outputs": [
    {
     "data": {
      "image/png": "[encoded data removed]",
      "text/latex": [
       "$$0$$"
      ],
      "text/plain": [
       "0"
      ]
     },
     "execution_count": 39,
     "metadata": {},
     "output_type": "execute_result"
    }
   ],
   "source": [
    "delta_f.subs({u_x:0,u_z:0,phi_y:0,delta_x:0, delta_y:0, delta_z:0, gamma_x:0, gamma_y:0}).simplify()"
   ]
  },
  {
   "cell_type": "code",
   "execution_count": 40,
   "metadata": {
    "collapsed": false
   },
   "outputs": [
    {
     "name": "stdout",
     "output_type": "stream",
     "text": [
      "-R_s*gamma_x*sin(psi)*sin(gamma - theta)*cos(lambda_f) + R_s*gamma_y*sin(gamma - theta)*cos(lambda_f)*cos(psi) + R_s*cos(lambda_f)*cos(gamma - theta) - R_s*cos(lambda_f)*cos(-gamma + phi_y + theta) + R_s*cos(phi_y) - R_s - delta_x*sin(theta)*cos(psi) - delta_y*sin(psi)*sin(theta) + delta_z*cos(theta) + e*gamma_x*sin(psi)*sin(theta) - e*gamma_y*sin(theta)*cos(psi) + gamma_x*r_m*sin(psi)*cos(theta) - gamma_y*r_m*cos(psi)*cos(theta) - u_x*sin(gamma - theta) - u_z*cos(gamma - theta)\n"
     ]
    }
   ],
   "source": [
    "print(delta_f.subs({cos(gamma_y):1,cos(gamma_x):1,sin(gamma_x):gamma_x,sin(gamma_y):gamma_y}).subs({gamma_x*gamma_y:0}).simplify() )"
   ]
  },
  {
   "cell_type": "code",
   "execution_count": 41,
   "metadata": {
    "collapsed": false
   },
   "outputs": [
    {
     "data": {
      "image/png": "[encoded data removed]",
      "text/latex": [
       "$$\\operatorname{sin}\\left(\\gamma - \\theta\\right)\\mathbf{\\hat{r}_x} + \\operatorname{cos}\\left(\\gamma - \\theta\\right)\\mathbf{\\hat{r}_z}$$"
      ],
      "text/plain": [
       "sin(γ - θ) r_x + cos(γ - θ) r_z"
      ]
     },
     "execution_count": 41,
     "metadata": {},
     "output_type": "execute_result"
    }
   ],
   "source": [
    "# 滚子坐标系下，外圈接触位置的法线矢量\n",
    "n_re = -cos(epsilon) * R.x - sin(epsilon) * R.z\n",
    "n_ri = cos(epsilon) * R.x - sin(epsilon) * R.z\n",
    "n_rf = sin(gamma - theta) * R.x + cos(gamma - theta) * R.z\n",
    "n_rf"
   ]
  },
  {
   "cell_type": "code",
   "execution_count": 42,
   "metadata": {
    "collapsed": false
   },
   "outputs": [
    {
     "data": {
      "image/png": "[encoded data removed]",
      "text/latex": [
       "$$-  R_{s} \\operatorname{sin}\\left(\\gamma - \\theta\\right)\\mathbf{\\hat{r}_x} + (R_{s} \\operatorname{cos}\\left(\\lambda_{f}\\right) - R_{s} \\operatorname{cos}\\left(\\gamma - \\theta\\right))\\mathbf{\\hat{r}_z}$$"
      ],
      "text/plain": [
       "- Rₛ⋅sin(γ - θ) r_x + (Rₛ⋅cos(λ_f) - Rₛ⋅cos(γ - θ)) r_z"
      ]
     },
     "execution_count": 42,
     "metadata": {},
     "output_type": "execute_result"
    }
   ],
   "source": [
    "rf_p = -Rs * sin(gamma-theta) * R.x + (Rs * cos(lambda_f) - Rs * cos(gamma-theta)) * R.z\n",
    "rf_p"
   ]
  },
  {
   "cell_type": "code",
   "execution_count": 43,
   "metadata": {
    "collapsed": false
   },
   "outputs": [
    {
     "data": {
      "image/png": "[encoded data removed]",
      "text/latex": [
       "$$R_{s} \\operatorname{sin}\\left(\\gamma - \\theta\\right) \\operatorname{cos}\\left(\\lambda_{f}\\right)\\mathbf{\\hat{r}_y}$$"
      ],
      "text/plain": [
       "Rₛ⋅sin(γ - θ)⋅cos(λ_f) r_y"
      ]
     },
     "execution_count": 43,
     "metadata": {},
     "output_type": "execute_result"
    }
   ],
   "source": [
    "# 档边对滚子的力矩\n",
    "M_rf = cross(rf_p, n_rf).simplify()\n",
    "M_rf"
   ]
  },
  {
   "cell_type": "code",
   "execution_count": 44,
   "metadata": {
    "collapsed": false
   },
   "outputs": [
    {
     "name": "stdout",
     "output_type": "stream",
     "text": [
      "R_s*sin(gamma - theta)*cos(lambda_f)*R.y\n"
     ]
    }
   ],
   "source": [
    "print(M_rf)"
   ]
  },
  {
   "cell_type": "code",
   "execution_count": 45,
   "metadata": {
    "collapsed": false
   },
   "outputs": [
    {
     "data": {
      "image/png": "[encoded data removed]",
      "text/latex": [
       "$$(\\rho_{k} \\operatorname{sin}\\left(\\epsilon\\right) - rz \\operatorname{cos}\\left(\\epsilon\\right))\\mathbf{\\hat{r}_y}$$"
      ],
      "text/plain": [
       "(ρₖ⋅sin(ε) - rz⋅cos(ε)) r_y"
      ]
     },
     "execution_count": 45,
     "metadata": {},
     "output_type": "execute_result"
    }
   ],
   "source": [
    "# outter ring moment\n",
    "re_p = rho_k * R.x + rz * R.z\n",
    "M_re = cross(re_p, n_re).simplify()\n",
    "M_re"
   ]
  },
  {
   "cell_type": "code",
   "execution_count": 46,
   "metadata": {
    "collapsed": false
   },
   "outputs": [
    {
     "name": "stdout",
     "output_type": "stream",
     "text": [
      "(rho_k*sin(epsilon) - rz*cos(epsilon))*R.y\n"
     ]
    }
   ],
   "source": [
    "print(M_re)"
   ]
  },
  {
   "cell_type": "code",
   "execution_count": 47,
   "metadata": {
    "collapsed": false
   },
   "outputs": [
    {
     "data": {
      "image/png": "[encoded data removed]",
      "text/latex": [
       "$$(- \\rho_{k} \\operatorname{sin}\\left(\\epsilon\\right) + rz \\operatorname{cos}\\left(\\epsilon\\right))\\mathbf{\\hat{r}_y}$$"
      ],
      "text/plain": [
       "(-ρₖ⋅sin(ε) + rz⋅cos(ε)) r_y"
      ]
     },
     "execution_count": 47,
     "metadata": {},
     "output_type": "execute_result"
    }
   ],
   "source": [
    "# inner ring moment\n",
    "ri_p = -rho_k * R.x + rz * R.z\n",
    "M_ri = cross(ri_p, n_ri).simplify()\n",
    "M_ri"
   ]
  },
  {
   "cell_type": "code",
   "execution_count": 48,
   "metadata": {
    "collapsed": false
   },
   "outputs": [
    {
     "name": "stdout",
     "output_type": "stream",
     "text": [
      "(-rho_k*sin(epsilon) + rz*cos(epsilon))*R.y\n"
     ]
    }
   ],
   "source": [
    "print(M_ri)"
   ]
  },
  {
   "cell_type": "markdown",
   "metadata": {},
   "source": [
    "内圈和滚子看做是一体的，这样采用外圈对滚子和内圈的受力平衡，来计算内圈的变形情况"
   ]
  },
  {
   "cell_type": "code",
   "execution_count": 49,
   "metadata": {
    "collapsed": false
   },
   "outputs": [
    {
     "data": {
      "image/png": "[encoded data removed]",
      "text/latex": [
       "$$\\left(r_{m} + \\rho_{k} \\operatorname{cos}\\left(\\gamma\\right) - rz \\operatorname{sin}\\left(\\gamma\\right)\\right) \\operatorname{cos}\\left(\\psi\\right)\\mathbf{\\hat{n}_x} + \\left(r_{m} + \\rho_{k} \\operatorname{cos}\\left(\\gamma\\right) - rz \\operatorname{sin}\\left(\\gamma\\right)\\right) \\operatorname{sin}\\left(\\psi\\right)\\mathbf{\\hat{n}_y} + (e + \\rho_{k} \\operatorname{sin}\\left(\\gamma\\right) + rz \\operatorname{cos}\\left(\\gamma\\right))\\mathbf{\\hat{n}_z}$$"
      ],
      "text/plain": [
       "(rₘ + ρₖ⋅cos(γ) - rz⋅sin(γ))⋅cos(ψ) n_x + (rₘ + ρₖ⋅cos(γ) - rz⋅sin(γ))⋅sin(ψ) n_y + (e + ρₖ⋅sin(γ) + rz⋅cos(γ)) n_z"
      ]
     },
     "execution_count": 49,
     "metadata": {},
     "output_type": "execute_result"
    }
   ],
   "source": [
    "r_e"
   ]
  },
  {
   "cell_type": "code",
   "execution_count": 50,
   "metadata": {
    "collapsed": false
   },
   "outputs": [
    {
     "name": "stdout",
     "output_type": "stream",
     "text": [
      "- cos(alpha)*cos(psi)*N.x - sin(psi)*cos(alpha)*N.y - sin(alpha)*N.z\n"
     ]
    }
   ],
   "source": [
    "print(n_o)"
   ]
  },
  {
   "cell_type": "code",
   "execution_count": 51,
   "metadata": {
    "collapsed": false
   },
   "outputs": [
    {
     "data": {
      "image/png": "[encoded data removed]",
      "text/latex": [
       "$$\\left(e \\operatorname{cos}\\left(\\alpha\\right) - r_{m} \\operatorname{sin}\\left(\\alpha\\right) - \\rho_{k} \\operatorname{sin}\\left(\\alpha - \\gamma\\right) + rz \\operatorname{cos}\\left(\\alpha - \\gamma\\right)\\right) \\operatorname{sin}\\left(\\psi\\right)\\mathbf{\\hat{n}_x} + \\left(- e \\operatorname{cos}\\left(\\alpha\\right) + r_{m} \\operatorname{sin}\\left(\\alpha\\right) + \\rho_{k} \\operatorname{sin}\\left(\\alpha - \\gamma\\right) - rz \\operatorname{cos}\\left(\\alpha - \\gamma\\right)\\right) \\operatorname{cos}\\left(\\psi\\right)\\mathbf{\\hat{n}_y}$$"
      ],
      "text/plain": [
       "(e⋅cos(α) - rₘ⋅sin(α) - ρₖ⋅sin(α - γ) + rz⋅cos(α - γ))⋅sin(ψ) n_x + (-e⋅cos(α) + rₘ⋅sin(α) + ρₖ⋅sin(α - γ) - rz⋅cos(α - γ))⋅cos(ψ) n_y"
      ]
     },
     "execution_count": 51,
     "metadata": {},
     "output_type": "execute_result"
    }
   ],
   "source": [
    "# moment\n",
    "cross(r_e,n_o).simplify()"
   ]
  },
  {
   "cell_type": "code",
   "execution_count": 52,
   "metadata": {
    "collapsed": false
   },
   "outputs": [
    {
     "name": "stdout",
     "output_type": "stream",
     "text": [
      "(e*cos(alpha) - r_m*sin(alpha) - rho_k*sin(alpha - gamma) + rz*cos(alpha - gamma))*sin(psi)*N.x + (-e*cos(alpha) + r_m*sin(alpha) + rho_k*sin(alpha - gamma) - rz*cos(alpha - gamma))*cos(psi)*N.y\n"
     ]
    }
   ],
   "source": [
    "print(cross(r_e,n_o).simplify())"
   ]
  },
  {
   "cell_type": "code",
   "execution_count": 53,
   "metadata": {
    "collapsed": false
   },
   "outputs": [
    {
     "data": {
      "image/png": "[encoded data removed]",
      "text/latex": [
       "$$(- \\left(- \\delta_{y} + \\left(e - \\rho_{k} \\operatorname{sin}\\left(\\gamma\\right) + rz \\operatorname{cos}\\left(\\gamma\\right)\\right) \\operatorname{sin}\\left(\\gamma_{x}\\right) \\operatorname{cos}\\left(\\gamma_{y}\\right) + \\left(- r_{m} + \\rho_{k} \\operatorname{cos}\\left(\\gamma\\right) + rz \\operatorname{sin}\\left(\\gamma\\right)\\right) \\operatorname{sin}\\left(\\gamma_{x}\\right) \\operatorname{sin}\\left(\\gamma_{y}\\right) \\operatorname{cos}\\left(\\psi\\right) + \\left(- r_{m} + \\rho_{k} \\operatorname{cos}\\left(\\gamma\\right) + rz \\operatorname{sin}\\left(\\gamma\\right)\\right) \\operatorname{sin}\\left(\\psi\\right) \\operatorname{cos}\\left(\\gamma_{x}\\right)\\right) \\operatorname{sin}\\left(\\beta\\right) - \\left(\\delta_{z} + \\left(e - \\rho_{k} \\operatorname{sin}\\left(\\gamma\\right) + rz \\operatorname{cos}\\left(\\gamma\\right)\\right) \\operatorname{cos}\\left(\\gamma_{x}\\right) \\operatorname{cos}\\left(\\gamma_{y}\\right) - \\left(- r_{m} + \\rho_{k} \\operatorname{cos}\\left(\\gamma\\right) + rz \\operatorname{sin}\\left(\\gamma\\right)\\right) \\operatorname{sin}\\left(\\gamma_{x}\\right) \\operatorname{sin}\\left(\\psi\\right) + \\left(- r_{m} + \\rho_{k} \\operatorname{cos}\\left(\\gamma\\right) + rz \\operatorname{sin}\\left(\\gamma\\right)\\right) \\operatorname{sin}\\left(\\gamma_{y}\\right) \\operatorname{cos}\\left(\\gamma_{x}\\right) \\operatorname{cos}\\left(\\psi\\right)\\right) \\operatorname{sin}\\left(\\psi\\right) \\operatorname{cos}\\left(\\beta\\right))\\mathbf{\\hat{n}_x} + (- \\left(\\delta_{x} + \\left(e - \\rho_{k} \\operatorname{sin}\\left(\\gamma\\right) + rz \\operatorname{cos}\\left(\\gamma\\right)\\right) \\operatorname{sin}\\left(\\gamma_{y}\\right) - \\left(- r_{m} + \\rho_{k} \\operatorname{cos}\\left(\\gamma\\right) + rz \\operatorname{sin}\\left(\\gamma\\right)\\right) \\operatorname{cos}\\left(\\gamma_{y}\\right) \\operatorname{cos}\\left(\\psi\\right)\\right) \\operatorname{sin}\\left(\\beta\\right) + \\left(\\delta_{z} + \\left(e - \\rho_{k} \\operatorname{sin}\\left(\\gamma\\right) + rz \\operatorname{cos}\\left(\\gamma\\right)\\right) \\operatorname{cos}\\left(\\gamma_{x}\\right) \\operatorname{cos}\\left(\\gamma_{y}\\right) - \\left(- r_{m} + \\rho_{k} \\operatorname{cos}\\left(\\gamma\\right) + rz \\operatorname{sin}\\left(\\gamma\\right)\\right) \\operatorname{sin}\\left(\\gamma_{x}\\right) \\operatorname{sin}\\left(\\psi\\right) + \\left(- r_{m} + \\rho_{k} \\operatorname{cos}\\left(\\gamma\\right) + rz \\operatorname{sin}\\left(\\gamma\\right)\\right) \\operatorname{sin}\\left(\\gamma_{y}\\right) \\operatorname{cos}\\left(\\gamma_{x}\\right) \\operatorname{cos}\\left(\\psi\\right)\\right) \\operatorname{cos}\\left(\\beta\\right) \\operatorname{cos}\\left(\\psi\\right))\\mathbf{\\hat{n}_y} + \\left(\\left(\\delta_{x} + \\left(e - \\rho_{k} \\operatorname{sin}\\left(\\gamma\\right) + rz \\operatorname{cos}\\left(\\gamma\\right)\\right) \\operatorname{sin}\\left(\\gamma_{y}\\right) - \\left(- r_{m} + \\rho_{k} \\operatorname{cos}\\left(\\gamma\\right) + rz \\operatorname{sin}\\left(\\gamma\\right)\\right) \\operatorname{cos}\\left(\\gamma_{y}\\right) \\operatorname{cos}\\left(\\psi\\right)\\right) \\operatorname{sin}\\left(\\psi\\right) + \\left(- \\delta_{y} + \\left(e - \\rho_{k} \\operatorname{sin}\\left(\\gamma\\right) + rz \\operatorname{cos}\\left(\\gamma\\right)\\right) \\operatorname{sin}\\left(\\gamma_{x}\\right) \\operatorname{cos}\\left(\\gamma_{y}\\right) + \\left(- r_{m} + \\rho_{k} \\operatorname{cos}\\left(\\gamma\\right) + rz \\operatorname{sin}\\left(\\gamma\\right)\\right) \\operatorname{sin}\\left(\\gamma_{x}\\right) \\operatorname{sin}\\left(\\gamma_{y}\\right) \\operatorname{cos}\\left(\\psi\\right) + \\left(- r_{m} + \\rho_{k} \\operatorname{cos}\\left(\\gamma\\right) + rz \\operatorname{sin}\\left(\\gamma\\right)\\right) \\operatorname{sin}\\left(\\psi\\right) \\operatorname{cos}\\left(\\gamma_{x}\\right)\\right) \\operatorname{cos}\\left(\\psi\\right)\\right) \\operatorname{cos}\\left(\\beta\\right)\\mathbf{\\hat{n}_z}$$"
      ],
      "text/plain": [
       "(-(-δ_y + (e - ρₖ⋅sin(γ) + rz⋅cos(γ))⋅sin(γₓ)⋅cos(γ_y) + (-rₘ + ρₖ⋅cos(γ) + rz⋅sin(γ))⋅sin(γₓ)⋅sin(γ_y)⋅cos(ψ) + (-rₘ + ρₖ⋅cos(γ) + rz⋅sin(γ))⋅sin(ψ)⋅cos(γₓ))⋅sin(β) - (δ_z + (e - ρₖ⋅sin(γ) + rz⋅cos(γ))⋅cos(γₓ)⋅cos(γ_y) - (-rₘ + ρₖ⋅cos(γ) + rz⋅sin(γ))⋅sin(γₓ)⋅sin(ψ) + (-rₘ + ρₖ⋅cos(γ) + rz⋅sin(γ))⋅sin(γ_y)⋅cos(γₓ)⋅cos(ψ))⋅sin(ψ)⋅cos(β)) n_x + (-(δₓ + (e - ρₖ⋅sin(γ) + rz⋅cos(γ))⋅sin(γ_y) - (-rₘ + ρₖ⋅cos(γ) + rz⋅sin(γ))⋅cos(γ_y)⋅cos(ψ))⋅sin(β) + (δ_z + (e - ρₖ⋅sin(γ) + rz⋅cos(γ))⋅cos(γₓ)⋅cos(γ_y) - (-rₘ + ρₖ⋅cos(γ) + rz⋅sin(γ))⋅sin(γₓ)⋅sin(ψ) + (-rₘ + ρₖ⋅cos(γ) + rz⋅sin(γ))⋅sin(γ_y)⋅cos(γₓ)⋅cos(ψ))⋅cos(β)⋅cos(ψ)) n_y + ((δₓ + (e - ρₖ⋅sin(γ) + rz⋅cos(γ))⋅sin(γ_y) - (-rₘ + ρₖ⋅cos(γ) + rz⋅sin(γ))⋅co\n",
       "s(γ_y)⋅cos(ψ))⋅sin(ψ) + (-δ_y + (e - ρₖ⋅sin(γ) + rz⋅cos(γ))⋅sin(γₓ)⋅cos(γ_y) +\n",
       " (-rₘ + ρₖ⋅cos(γ) + rz⋅sin(γ))⋅sin(γₓ)⋅sin(γ_y)⋅cos(ψ) + (-rₘ + ρₖ⋅cos(γ) + rz\n",
       "⋅sin(γ))⋅sin(ψ)⋅cos(γₓ))⋅cos(ψ))⋅cos(β) n_z"
      ]
     },
     "execution_count": 53,
     "metadata": {},
     "output_type": "execute_result"
    }
   ],
   "source": [
    "# moment\n",
    "inner_M = cross(r_i,n_i).simplify()\n",
    "inner_M"
   ]
  },
  {
   "cell_type": "code",
   "execution_count": 54,
   "metadata": {
    "collapsed": false
   },
   "outputs": [
    {
     "name": "stdout",
     "output_type": "stream",
     "text": [
      "(-(-delta_y + (e - rho_k*sin(gamma) + rz*cos(gamma))*sin(gamma_x)*cos(gamma_y) + (-r_m + rho_k*cos(gamma) + rz*sin(gamma))*sin(gamma_x)*sin(gamma_y)*cos(psi) + (-r_m + rho_k*cos(gamma) + rz*sin(gamma))*sin(psi)*cos(gamma_x))*sin(beta) - (delta_z + (e - rho_k*sin(gamma) + rz*cos(gamma))*cos(gamma_x)*cos(gamma_y) - (-r_m + rho_k*cos(gamma) + rz*sin(gamma))*sin(gamma_x)*sin(psi) + (-r_m + rho_k*cos(gamma) + rz*sin(gamma))*sin(gamma_y)*cos(gamma_x)*cos(psi))*sin(psi)*cos(beta))*N.x + (-(delta_x + (e - rho_k*sin(gamma) + rz*cos(gamma))*sin(gamma_y) - (-r_m + rho_k*cos(gamma) + rz*sin(gamma))*cos(gamma_y)*cos(psi))*sin(beta) + (delta_z + (e - rho_k*sin(gamma) + rz*cos(gamma))*cos(gamma_x)*cos(gamma_y) - (-r_m + rho_k*cos(gamma) + rz*sin(gamma))*sin(gamma_x)*sin(psi) + (-r_m + rho_k*cos(gamma) + rz*sin(gamma))*sin(gamma_y)*cos(gamma_x)*cos(psi))*cos(beta)*cos(psi))*N.y + ((delta_x + (e - rho_k*sin(gamma) + rz*cos(gamma))*sin(gamma_y) - (-r_m + rho_k*cos(gamma) + rz*sin(gamma))*cos(gamma_y)*cos(psi))*sin(psi) + (-delta_y + (e - rho_k*sin(gamma) + rz*cos(gamma))*sin(gamma_x)*cos(gamma_y) + (-r_m + rho_k*cos(gamma) + rz*sin(gamma))*sin(gamma_x)*sin(gamma_y)*cos(psi) + (-r_m + rho_k*cos(gamma) + rz*sin(gamma))*sin(psi)*cos(gamma_x))*cos(psi))*cos(beta)*N.z\n"
     ]
    }
   ],
   "source": [
    "print(inner_M)"
   ]
  },
  {
   "cell_type": "code",
   "execution_count": 59,
   "metadata": {
    "collapsed": false
   },
   "outputs": [
    {
     "data": {
      "image/png": "[encoded data removed]",
      "text/latex": [
       "$$\\left(- e \\operatorname{cos}\\left(\\beta\\right) + r_{m} \\operatorname{sin}\\left(\\beta\\right) - \\rho_{k} \\operatorname{sin}\\left(\\beta - \\gamma\\right) - rz \\operatorname{cos}\\left(\\beta - \\gamma\\right)\\right) \\operatorname{sin}\\left(\\psi\\right)\\mathbf{\\hat{n}_x} + \\left(e \\operatorname{cos}\\left(\\beta\\right) - r_{m} \\operatorname{sin}\\left(\\beta\\right) + \\rho_{k} \\operatorname{sin}\\left(\\beta - \\gamma\\right) + rz \\operatorname{cos}\\left(\\beta - \\gamma\\right)\\right) \\operatorname{cos}\\left(\\psi\\right)\\mathbf{\\hat{n}_y}$$"
      ],
      "text/plain": [
       "(-e⋅cos(β) + rₘ⋅sin(β) - ρₖ⋅sin(β - γ) - rz⋅cos(β - γ))⋅sin(ψ) n_x + (e⋅cos(β) - rₘ⋅sin(β) + ρₖ⋅sin(β - γ) + rz⋅cos(β - γ))⋅cos(ψ) n_y"
      ]
     },
     "execution_count": 59,
     "metadata": {},
     "output_type": "execute_result"
    }
   ],
   "source": [
    "# moment\n",
    "inner_M = cross(r_i0,n_i).simplify()\n",
    "inner_M"
   ]
  },
  {
   "cell_type": "code",
   "execution_count": 60,
   "metadata": {
    "collapsed": false
   },
   "outputs": [
    {
     "name": "stdout",
     "output_type": "stream",
     "text": [
      "(-e*cos(beta) + r_m*sin(beta) - rho_k*sin(beta - gamma) - rz*cos(beta - gamma))*sin(psi)*N.x + (e*cos(beta) - r_m*sin(beta) + rho_k*sin(beta - gamma) + rz*cos(beta - gamma))*cos(psi)*N.y\n"
     ]
    }
   ],
   "source": [
    "print(inner_M)"
   ]
  },
  {
   "cell_type": "code",
   "execution_count": 55,
   "metadata": {
    "collapsed": false
   },
   "outputs": [
    {
     "data": {
      "image/png": "[encoded data removed]",
      "text/latex": [
       "$$(\\left(\\delta_{y} + \\left(- R_{s} \\operatorname{sin}\\left(\\gamma\\right) \\operatorname{cos}\\left(\\lambda_{f}\\right) + R_{s} \\operatorname{sin}\\left(\\theta\\right) + r_{m}\\right) \\operatorname{sin}\\left(\\gamma_{x}\\right) \\operatorname{sin}\\left(\\gamma_{y}\\right) \\operatorname{cos}\\left(\\psi\\right) + \\left(- R_{s} \\operatorname{sin}\\left(\\gamma\\right) \\operatorname{cos}\\left(\\lambda_{f}\\right) + R_{s} \\operatorname{sin}\\left(\\theta\\right) + r_{m}\\right) \\operatorname{sin}\\left(\\psi\\right) \\operatorname{cos}\\left(\\gamma_{x}\\right) - \\left(R_{s} \\operatorname{cos}\\left(\\gamma\\right) \\operatorname{cos}\\left(\\lambda_{f}\\right) - R_{s} \\operatorname{cos}\\left(\\theta\\right) + e\\right) \\operatorname{sin}\\left(\\gamma_{x}\\right) \\operatorname{cos}\\left(\\gamma_{y}\\right)\\right) \\operatorname{cos}\\left(\\theta\\right) + \\left(\\delta_{z} + \\left(- R_{s} \\operatorname{sin}\\left(\\gamma\\right) \\operatorname{cos}\\left(\\lambda_{f}\\right) + R_{s} \\operatorname{sin}\\left(\\theta\\right) + r_{m}\\right) \\operatorname{sin}\\left(\\gamma_{x}\\right) \\operatorname{sin}\\left(\\psi\\right) - \\left(- R_{s} \\operatorname{sin}\\left(\\gamma\\right) \\operatorname{cos}\\left(\\lambda_{f}\\right) + R_{s} \\operatorname{sin}\\left(\\theta\\right) + r_{m}\\right) \\operatorname{sin}\\left(\\gamma_{y}\\right) \\operatorname{cos}\\left(\\gamma_{x}\\right) \\operatorname{cos}\\left(\\psi\\right) + \\left(R_{s} \\operatorname{cos}\\left(\\gamma\\right) \\operatorname{cos}\\left(\\lambda_{f}\\right) - R_{s} \\operatorname{cos}\\left(\\theta\\right) + e\\right) \\operatorname{cos}\\left(\\gamma_{x}\\right) \\operatorname{cos}\\left(\\gamma_{y}\\right)\\right) \\operatorname{sin}\\left(\\psi\\right) \\operatorname{sin}\\left(\\theta\\right))\\mathbf{\\hat{n}_x} + (- \\left(\\delta_{x} + \\left(- R_{s} \\operatorname{sin}\\left(\\gamma\\right) \\operatorname{cos}\\left(\\lambda_{f}\\right) + R_{s} \\operatorname{sin}\\left(\\theta\\right) + r_{m}\\right) \\operatorname{cos}\\left(\\gamma_{y}\\right) \\operatorname{cos}\\left(\\psi\\right) + \\left(R_{s} \\operatorname{cos}\\left(\\gamma\\right) \\operatorname{cos}\\left(\\lambda_{f}\\right) - R_{s} \\operatorname{cos}\\left(\\theta\\right) + e\\right) \\operatorname{sin}\\left(\\gamma_{y}\\right)\\right) \\operatorname{cos}\\left(\\theta\\right) - \\left(\\delta_{z} + \\left(- R_{s} \\operatorname{sin}\\left(\\gamma\\right) \\operatorname{cos}\\left(\\lambda_{f}\\right) + R_{s} \\operatorname{sin}\\left(\\theta\\right) + r_{m}\\right) \\operatorname{sin}\\left(\\gamma_{x}\\right) \\operatorname{sin}\\left(\\psi\\right) - \\left(- R_{s} \\operatorname{sin}\\left(\\gamma\\right) \\operatorname{cos}\\left(\\lambda_{f}\\right) + R_{s} \\operatorname{sin}\\left(\\theta\\right) + r_{m}\\right) \\operatorname{sin}\\left(\\gamma_{y}\\right) \\operatorname{cos}\\left(\\gamma_{x}\\right) \\operatorname{cos}\\left(\\psi\\right) + \\left(R_{s} \\operatorname{cos}\\left(\\gamma\\right) \\operatorname{cos}\\left(\\lambda_{f}\\right) - R_{s} \\operatorname{cos}\\left(\\theta\\right) + e\\right) \\operatorname{cos}\\left(\\gamma_{x}\\right) \\operatorname{cos}\\left(\\gamma_{y}\\right)\\right) \\operatorname{sin}\\left(\\theta\\right) \\operatorname{cos}\\left(\\psi\\right))\\mathbf{\\hat{n}_y} + \\left(- \\left(\\delta_{x} + \\left(- R_{s} \\operatorname{sin}\\left(\\gamma\\right) \\operatorname{cos}\\left(\\lambda_{f}\\right) + R_{s} \\operatorname{sin}\\left(\\theta\\right) + r_{m}\\right) \\operatorname{cos}\\left(\\gamma_{y}\\right) \\operatorname{cos}\\left(\\psi\\right) + \\left(R_{s} \\operatorname{cos}\\left(\\gamma\\right) \\operatorname{cos}\\left(\\lambda_{f}\\right) - R_{s} \\operatorname{cos}\\left(\\theta\\right) + e\\right) \\operatorname{sin}\\left(\\gamma_{y}\\right)\\right) \\operatorname{sin}\\left(\\psi\\right) + \\left(\\delta_{y} + \\left(- R_{s} \\operatorname{sin}\\left(\\gamma\\right) \\operatorname{cos}\\left(\\lambda_{f}\\right) + R_{s} \\operatorname{sin}\\left(\\theta\\right) + r_{m}\\right) \\operatorname{sin}\\left(\\gamma_{x}\\right) \\operatorname{sin}\\left(\\gamma_{y}\\right) \\operatorname{cos}\\left(\\psi\\right) + \\left(- R_{s} \\operatorname{sin}\\left(\\gamma\\right) \\operatorname{cos}\\left(\\lambda_{f}\\right) + R_{s} \\operatorname{sin}\\left(\\theta\\right) + r_{m}\\right) \\operatorname{sin}\\left(\\psi\\right) \\operatorname{cos}\\left(\\gamma_{x}\\right) - \\left(R_{s} \\operatorname{cos}\\left(\\gamma\\right) \\operatorname{cos}\\left(\\lambda_{f}\\right) - R_{s} \\operatorname{cos}\\left(\\theta\\right) + e\\right) \\operatorname{sin}\\left(\\gamma_{x}\\right) \\operatorname{cos}\\left(\\gamma_{y}\\right)\\right) \\operatorname{cos}\\left(\\psi\\right)\\right) \\operatorname{sin}\\left(\\theta\\right)\\mathbf{\\hat{n}_z}$$"
      ],
      "text/plain": [
       "((δ_y + (-Rₛ⋅sin(γ)⋅cos(λ_f) + Rₛ⋅sin(θ) + rₘ)⋅sin(γₓ)⋅sin(γ_y)⋅cos(ψ) + (-Rₛ⋅sin(γ)⋅cos(λ_f) + Rₛ⋅sin(θ) + rₘ)⋅sin(ψ)⋅cos(γₓ) - (Rₛ⋅cos(γ)⋅cos(λ_f) - Rₛ⋅cos(θ) + e)⋅sin(γₓ)⋅cos(γ_y))⋅cos(θ) + (δ_z + (-Rₛ⋅sin(γ)⋅cos(λ_f) + Rₛ⋅sin(θ) + rₘ)⋅sin(γₓ)⋅sin(ψ) - (-Rₛ⋅sin(γ)⋅cos(λ_f) + Rₛ⋅sin(θ) + rₘ)⋅sin(γ_y)⋅cos(γₓ)⋅cos(ψ) + (Rₛ⋅cos(γ)⋅cos(λ_f) - Rₛ⋅cos(θ) + e)⋅cos(γₓ)⋅cos(γ_y))⋅sin(ψ)⋅sin(θ)) n_x + (-(δₓ + (-Rₛ⋅sin(γ)⋅cos(λ_f) + Rₛ⋅sin(θ) + rₘ)⋅cos(γ_y)⋅cos(ψ) + (Rₛ⋅cos(γ)⋅cos(λ_f) - Rₛ⋅cos(θ) + e)⋅sin(γ_y))⋅cos(θ) - (δ_z + (-Rₛ⋅sin(γ)⋅cos(λ_f) + Rₛ⋅sin(θ) + rₘ)⋅sin(γₓ)⋅sin(ψ) - (-Rₛ⋅sin(γ)⋅cos(λ_f) + Rₛ⋅sin(θ) + rₘ)⋅sin(γ_y)⋅cos(γₓ)⋅cos(ψ) + (Rₛ⋅cos(γ)⋅cos(λ_f) - Rₛ⋅cos(θ) + e)⋅cos(γₓ)⋅cos(γ_y))⋅sin(θ)⋅cos(ψ)) n_y + (-(δₓ + (-Rₛ⋅sin(γ)⋅cos(λ_f) + Rₛ⋅sin(θ) + rₘ)⋅cos(γ_y)⋅cos(ψ) + (Rₛ⋅cos(γ)⋅co\n",
       "s(λ_f) - Rₛ⋅cos(θ) + e)⋅sin(γ_y))⋅sin(ψ) + (δ_y + (-Rₛ⋅sin(γ)⋅cos(λ_f) + Rₛ⋅si\n",
       "n(θ) + rₘ)⋅sin(γₓ)⋅sin(γ_y)⋅cos(ψ) + (-Rₛ⋅sin(γ)⋅cos(λ_f) + Rₛ⋅sin(θ) + rₘ)⋅si\n",
       "n(ψ)⋅cos(γₓ) - (Rₛ⋅cos(γ)⋅cos(λ_f) - Rₛ⋅cos(θ) + e)⋅sin(γₓ)⋅cos(γ_y))⋅cos(ψ))⋅\n",
       "sin(θ) n_z"
      ]
     },
     "execution_count": 55,
     "metadata": {},
     "output_type": "execute_result"
    }
   ],
   "source": [
    "inner_F = cross(r_f,n_f).simplify()\n",
    "inner_F"
   ]
  },
  {
   "cell_type": "code",
   "execution_count": 56,
   "metadata": {
    "collapsed": false
   },
   "outputs": [
    {
     "name": "stdout",
     "output_type": "stream",
     "text": [
      "((delta_y + (-R_s*sin(gamma)*cos(lambda_f) + R_s*sin(theta) + r_m)*sin(gamma_x)*sin(gamma_y)*cos(psi) + (-R_s*sin(gamma)*cos(lambda_f) + R_s*sin(theta) + r_m)*sin(psi)*cos(gamma_x) - (R_s*cos(gamma)*cos(lambda_f) - R_s*cos(theta) + e)*sin(gamma_x)*cos(gamma_y))*cos(theta) + (delta_z + (-R_s*sin(gamma)*cos(lambda_f) + R_s*sin(theta) + r_m)*sin(gamma_x)*sin(psi) - (-R_s*sin(gamma)*cos(lambda_f) + R_s*sin(theta) + r_m)*sin(gamma_y)*cos(gamma_x)*cos(psi) + (R_s*cos(gamma)*cos(lambda_f) - R_s*cos(theta) + e)*cos(gamma_x)*cos(gamma_y))*sin(psi)*sin(theta))*N.x + (-(delta_x + (-R_s*sin(gamma)*cos(lambda_f) + R_s*sin(theta) + r_m)*cos(gamma_y)*cos(psi) + (R_s*cos(gamma)*cos(lambda_f) - R_s*cos(theta) + e)*sin(gamma_y))*cos(theta) - (delta_z + (-R_s*sin(gamma)*cos(lambda_f) + R_s*sin(theta) + r_m)*sin(gamma_x)*sin(psi) - (-R_s*sin(gamma)*cos(lambda_f) + R_s*sin(theta) + r_m)*sin(gamma_y)*cos(gamma_x)*cos(psi) + (R_s*cos(gamma)*cos(lambda_f) - R_s*cos(theta) + e)*cos(gamma_x)*cos(gamma_y))*sin(theta)*cos(psi))*N.y + (-(delta_x + (-R_s*sin(gamma)*cos(lambda_f) + R_s*sin(theta) + r_m)*cos(gamma_y)*cos(psi) + (R_s*cos(gamma)*cos(lambda_f) - R_s*cos(theta) + e)*sin(gamma_y))*sin(psi) + (delta_y + (-R_s*sin(gamma)*cos(lambda_f) + R_s*sin(theta) + r_m)*sin(gamma_x)*sin(gamma_y)*cos(psi) + (-R_s*sin(gamma)*cos(lambda_f) + R_s*sin(theta) + r_m)*sin(psi)*cos(gamma_x) - (R_s*cos(gamma)*cos(lambda_f) - R_s*cos(theta) + e)*sin(gamma_x)*cos(gamma_y))*cos(psi))*sin(theta)*N.z\n"
     ]
    }
   ],
   "source": [
    "print(inner_F)"
   ]
  },
  {
   "cell_type": "code",
   "execution_count": 57,
   "metadata": {
    "collapsed": false
   },
   "outputs": [
    {
     "data": {
      "image/png": "[encoded data removed]",
      "text/latex": [
       "$$\\left(- R_{s} \\operatorname{sin}\\left(\\gamma - \\theta\\right) \\operatorname{cos}\\left(\\lambda_{f}\\right) + e \\operatorname{sin}\\left(\\theta\\right) + r_{m} \\operatorname{cos}\\left(\\theta\\right)\\right) \\operatorname{sin}\\left(\\psi\\right)\\mathbf{\\hat{n}_x} + \\left(R_{s} \\operatorname{sin}\\left(\\gamma - \\theta\\right) \\operatorname{cos}\\left(\\lambda_{f}\\right) - e \\operatorname{sin}\\left(\\theta\\right) - r_{m} \\operatorname{cos}\\left(\\theta\\right)\\right) \\operatorname{cos}\\left(\\psi\\right)\\mathbf{\\hat{n}_y}$$"
      ],
      "text/plain": [
       "(-Rₛ⋅sin(γ - θ)⋅cos(λ_f) + e⋅sin(θ) + rₘ⋅cos(θ))⋅sin(ψ) n_x + (Rₛ⋅sin(γ - θ)⋅cos(λ_f) - e⋅sin(θ) - rₘ⋅cos(θ))⋅cos(ψ) n_y"
      ]
     },
     "execution_count": 57,
     "metadata": {},
     "output_type": "execute_result"
    }
   ],
   "source": [
    "inner_F = cross(r_f0,n_f).simplify()\n",
    "inner_F"
   ]
  },
  {
   "cell_type": "code",
   "execution_count": 58,
   "metadata": {
    "collapsed": false
   },
   "outputs": [
    {
     "name": "stdout",
     "output_type": "stream",
     "text": [
      "(-R_s*sin(gamma - theta)*cos(lambda_f) + e*sin(theta) + r_m*cos(theta))*sin(psi)*N.x + (R_s*sin(gamma - theta)*cos(lambda_f) - e*sin(theta) - r_m*cos(theta))*cos(psi)*N.y\n"
     ]
    }
   ],
   "source": [
    "print(inner_F)"
   ]
  }
 ],
 "metadata": {
  "anaconda-cloud": {},
  "kernelspec": {
   "display_name": "Python [default]",
   "language": "python",
   "name": "python3"
  },
  "language_info": {
   "codemirror_mode": {
    "name": "ipython",
    "version": 3
   },
   "file_extension": ".py",
   "mimetype": "text/x-python",
   "name": "python",
   "nbconvert_exporter": "python",
   "pygments_lexer": "ipython3",
   "version": "3.5.2"
  }
 },
 "nbformat": 4,
 "nbformat_minor": 0
}
